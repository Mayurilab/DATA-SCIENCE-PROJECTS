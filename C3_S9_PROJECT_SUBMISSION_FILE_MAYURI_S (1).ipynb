{
 "cells": [
  {
   "cell_type": "code",
   "execution_count": null,
   "id": "b524d0cf-a29b-4499-84f6-478ccc987980",
   "metadata": {},
   "outputs": [],
   "source": [
    "#TASK-1\n",
    "class RiddleGame:\n",
    "    def __init__(self):\n",
    "        self.riddles = [\n",
    "            {\"question\": \"I have no beginning. I have no end. I am always present, and always will be. What am I?\", \"answer\": \"time\"},\n",
    "            {\"question\": \"I have cities, but no houses. I have mountains, but no trees. I have water, but no fish. What am I?\", \"answer\": \"map\"},\n",
    "            {\"question\": \"I am often given, but never kept. I am always coming, but also always going. I am always present, yet never staying. What am I?\", \"answer\": \"time\"},\n",
    "            {\"question\": \"I have a neck, but no head. I have a spine, but no bones. I can be long or short, thick or thin. What am I?\", \"answer\": \"book\"},\n",
    "            {\"question\": \"I have keys that open no locks. I have space, but no room. You can enter, but can’t go inside. What am I?\", \"answer\": \"keyboard\"}\n",
    "        ]\n",
    "        self.score = 0\n",
    "        self.total_questions = 0\n",
    "\n",
    "    def play_riddle_game(self):\n",
    "        while True:\n",
    "            for riddle in self.riddles:\n",
    "                user_answer, correct_answer = self.ask_riddle(riddle)\n",
    "\n",
    "                if user_answer.lower() == correct_answer.lower():\n",
    "                    print(\"Correct!\")\n",
    "                    self.score += 1\n",
    "                else:\n",
    "                    print(f\"Incorrect. The correct answer is {correct_answer}.\")\n",
    "\n",
    "                self.total_questions += 1\n",
    "\n",
    "                play_again = input(\"Do you want to continue? (yes/no): \")\n",
    "                if play_again.lower() != 'yes':\n",
    "                    self.end_game()\n",
    "                    return\n",
    "\n",
    "    def ask_riddle(self, riddle):\n",
    "        print(riddle[\"question\"])\n",
    "        user_answer = input(\"Your answer: \").strip()\n",
    "        return user_answer, riddle[\"answer\"]\n",
    "\n",
    "    def end_game(self):\n",
    "        percentage_score = (self.score / self.total_questions) * 100 if self.total_questions > 0 else 0\n",
    "        print(f\"Game over! Your score is {self.score}/{self.total_questions} ({percentage_score:.2f}%)\")\n",
    "\n",
    "def main_menu():\n",
    "    game = RiddleGame()\n",
    "    game.play_riddle_game()\n",
    "\n",
    "if __name__ == \"__main__\":\n",
    "    main_menu()\n"
   ]
  },
  {
   "cell_type": "code",
   "execution_count": null,
   "id": "4f5db494-214c-48f2-bf2e-10ec5f265a2c",
   "metadata": {},
   "outputs": [],
   "source": [
    "import random\n",
    "\n",
    "class ArithmeticGame:\n",
    "    def __init__(self):\n",
    "        self.correct_answers = 0\n",
    "        self.total_questions = 0\n",
    "\n",
    "    def generate_puzzle(self):\n",
    "        self.num1 = random.randint(1, 20)\n",
    "        self.num2 = random.randint(1, 20)\n",
    "        self.operator = random.choice(['+', '-', '*', '/'])\n",
    "        print(f\"Calculate: {self.num1} {self.operator} {self.num2}\")\n",
    "\n",
    "    def calculate_result(self):\n",
    "        if self.operator == '+':\n",
    "            return self.num1 + self.num2\n",
    "        elif self.operator == '-':\n",
    "            return self.num1 - self.num2\n",
    "        elif self.operator == '*':\n",
    "            return self.num1 * self.num2\n",
    "        elif self.operator == '/':\n",
    "            return self.num1 / self.num2 if self.num2 != 0 else \"Division by zero error\"\n",
    "\n",
    "    def play_game(self):\n",
    "        while True:\n",
    "            self.generate_puzzle()\n",
    "\n",
    "            try:\n",
    "                user_answer = float(input(\"Enter your answer: \"))\n",
    "                correct_answer = self.calculate_result()\n",
    "\n",
    "                if user_answer == correct_answer:\n",
    "                    print(\"Correct!\")\n",
    "                    self.correct_answers += 1\n",
    "                else:\n",
    "                    print(f\"Incorrect. The correct answer is {correct_answer}\")\n",
    "\n",
    "                self.total_questions += 1\n",
    "\n",
    "                if input(\"Do you want to play again? (yes/no): \").lower() != 'yes':\n",
    "                    break\n",
    "\n",
    "            except ValueError:\n",
    "                print(\"Invalid input. Please enter a number.\")\n",
    "\n",
    "        if self.total_questions > 0:\n",
    "            percentage_score = (self.correct_answers / self.total_questions) * 100\n",
    "            print(f\"Game over! Your score is {self.correct_answers}/{self.total_questions} ({percentage_score:.2f}%)\")\n",
    "        else:\n",
    "            print(\"No questions answered. Please play again.\")\n",
    "\n",
    "if __name__ == \"__main__\":\n",
    "    game = ArithmeticGame()\n",
    "    game.play_game()\n"
   ]
  },
  {
   "cell_type": "code",
   "execution_count": 9,
   "id": "a4b50066-4f43-447b-afd0-d5a1b6814023",
   "metadata": {},
   "outputs": [
    {
     "name": "stdout",
     "output_type": "stream",
     "text": [
      "Welcome to the General Knowledge Quiz!\n",
      "Select a category or exit:\n",
      "1. Science\n",
      "2. Mathematics\n",
      "3. Geography\n",
      "4. Others\n",
      "5. Exit\n"
     ]
    },
    {
     "name": "stdin",
     "output_type": "stream",
     "text": [
      "Enter your choice (1-5):  2\n"
     ]
    },
    {
     "name": "stdout",
     "output_type": "stream",
     "text": [
      "What is the only even prime number?\n"
     ]
    },
    {
     "name": "stdin",
     "output_type": "stream",
     "text": [
      "Your answer:  2\n"
     ]
    },
    {
     "name": "stdout",
     "output_type": "stream",
     "text": [
      "Correct!\n",
      "What is the sum of the first 5 natural numbers?\n"
     ]
    },
    {
     "name": "stdin",
     "output_type": "stream",
     "text": [
      "Your answer:  15\n"
     ]
    },
    {
     "name": "stdout",
     "output_type": "stream",
     "text": [
      "Correct!\n",
      "What is the name of the mathematical symbol π?\n"
     ]
    },
    {
     "name": "stdin",
     "output_type": "stream",
     "text": [
      "Your answer:  pi\n"
     ]
    },
    {
     "name": "stdout",
     "output_type": "stream",
     "text": [
      "Correct!\n",
      "Game over! Your score is 3/3 (100.00%)\n"
     ]
    },
    {
     "name": "stdin",
     "output_type": "stream",
     "text": [
      "Do you want to play again? (yes/no):  no\n"
     ]
    },
    {
     "name": "stdout",
     "output_type": "stream",
     "text": [
      "Thank you for playing!\n"
     ]
    }
   ],
   "source": [
    "##### TASK-3\n",
    "class GeneralKnowledgeQuiz:\n",
    "    def __init__(self):\n",
    "        self.science_questions = [\n",
    "            {\"question\": \"Which gas do plants absorb during photosynthesis?\", \"answer\": \"Carbon dioxide\"},\n",
    "            {\"question\": \"What is the full name of the WWW?\", \"answer\": \"World Wide Web\"},\n",
    "            {\"question\": \"How many bones are there in the adult human body?\", \"answer\": \"206\"},]\n",
    "\n",
    "        self.math_questions = [\n",
    "            {\"question\": \"What is the only even prime number?\", \"answer\": \"2\"},\n",
    "            {\"question\": \"What is the sum of the first 5 natural numbers?\", \"answer\": \"15\"},\n",
    "            {\"question\": \"What is the name of the mathematical symbol π?\", \"answer\": \"Pi\"},]\n",
    "        self.geography_questions = [\n",
    "            {\"question\": \"What is the tallest mountain on Earth?\", \"answer\": \"Mount Everest\"},\n",
    "            {\"question\": \"What is the capital of France?\", \"answer\": \"Paris\"},\n",
    "            {\"question\": \"Which planet is known as the 'Red Planet'?\", \"answer\": \"Mars\"},]\n",
    "        \n",
    "        self.other_questions = [\n",
    "            {\"question\": \"Who painted the Mona Lisa?\", \"answer\": \"Leonardo da Vinci\"},\n",
    "            {\"question\": \"What is the national animal of India?\", \"answer\": \"Tiger\"},\n",
    "            {\"question\": \"What is the largest country in the world by land area?\", \"answer\": \"Russia\"},\n",
    "        ]\n",
    "\n",
    "        self.score = 0\n",
    "        self.total_questions = 0\n",
    "\n",
    "    def ask_category(self):\n",
    "        print(\"Select a category or exit:\")\n",
    "        print(\"1. Science\")\n",
    "        print(\"2. Mathematics\")\n",
    "        print(\"3. Geography\")\n",
    "        print(\"4. Others\")\n",
    "        print(\"5. Exit\")\n",
    "\n",
    "        while True:\n",
    "            choice = input(\"Enter your choice (1-5): \")\n",
    "            if choice in ['1', '2', '3', '4', '5']:\n",
    "                return choice\n",
    "            else:\n",
    "                print(\"Invalid choice. Please enter a number between 1 and 5.\")\n",
    "\n",
    "    def ask_question(self, question):\n",
    "        print(question[\"question\"])\n",
    "        user_answer = input(\"Your answer: \").strip()\n",
    "        return user_answer\n",
    "\n",
    "    def check_answer(self, user_answer, correct_answer):\n",
    "        if user_answer.lower() == correct_answer.lower():\n",
    "            print(\"Correct!\")\n",
    "            self.score += 1\n",
    "        else:\n",
    "            print(f\"Incorrect. The correct answer is {correct_answer}\")\n",
    "\n",
    "    def exec_questions(self, questions):\n",
    "        for question in questions:\n",
    "            user_answer = self.ask_question(question)\n",
    "            self.check_answer(user_answer, question[\"answer\"])\n",
    "            self.total_questions += 1\n",
    "\n",
    "    def display_score(self):\n",
    "        percentage_score = (self.score / self.total_questions) * 100 if self.total_questions > 0 else 0\n",
    "        print(f\"Game over! Your score is {self.score}/{self.total_questions} ({percentage_score:.2f}%)\")\n",
    "\n",
    "    def play_game(self):\n",
    "        print(\"Welcome to the General Knowledge Quiz!\")\n",
    "        while True:\n",
    "            choice = self.ask_category()\n",
    "\n",
    "            if choice == '5':\n",
    "                print(\"Thank you for playing!\")\n",
    "                break\n",
    "\n",
    "            if choice == '1':\n",
    "                questions = self.science_questions\n",
    "            elif choice == '2':\n",
    "                questions = self.math_questions\n",
    "            elif choice == '3':\n",
    "                questions = self.geography_questions\n",
    "            else:\n",
    "                questions = self.other_questions\n",
    "\n",
    "            self.exec_questions(questions)\n",
    "\n",
    "            self.display_score()\n",
    "\n",
    "            play_again = input(\"Do you want to play again? (yes/no): \")\n",
    "            if play_again.lower() != 'yes':\n",
    "                break\n",
    "\n",
    "        print(\"Thank you for playing!\")\n",
    "\n",
    "if __name__ == \"__main__\":\n",
    "    game = GeneralKnowledgeQuiz()\n",
    "    game.play_game()\n"
   ]
  },
  {
   "cell_type": "code",
   "execution_count": 11,
   "id": "296524df-42de-4f92-8984-f97d83003a04",
   "metadata": {},
   "outputs": [
    {
     "name": "stdin",
     "output_type": "stream",
     "text": [
      "Enter your choice (rock, paper, scissors):  rock\n"
     ]
    },
    {
     "name": "stdout",
     "output_type": "stream",
     "text": [
      "Computer chose: rock\n",
      "It's a tie!\n"
     ]
    },
    {
     "name": "stdin",
     "output_type": "stream",
     "text": [
      "Do you want to play again? (yes/no):  yes\n",
      "Enter your choice (rock, paper, scissors):  paper\n"
     ]
    },
    {
     "name": "stdout",
     "output_type": "stream",
     "text": [
      "Computer chose: scissors\n",
      "Computer wins!\n"
     ]
    },
    {
     "name": "stdin",
     "output_type": "stream",
     "text": [
      "Do you want to play again? (yes/no):  yes\n",
      "Enter your choice (rock, paper, scissors):  scissors\n"
     ]
    },
    {
     "name": "stdout",
     "output_type": "stream",
     "text": [
      "Computer chose: scissors\n",
      "It's a tie!\n"
     ]
    },
    {
     "name": "stdin",
     "output_type": "stream",
     "text": [
      "Do you want to play again? (yes/no):  no\n"
     ]
    }
   ],
   "source": [
    "#TASK-4\n",
    "import random\n",
    "\n",
    "def get_computer_choice():\n",
    "    choices = [\"rock\", \"paper\", \"scissors\"]\n",
    "    return random.choice(choices)\n",
    "\n",
    "def determine_winner(player_choice, computer_choice):\n",
    "    if player_choice == computer_choice:\n",
    "        return \"It's a tie!\"\n",
    "    elif (player_choice == \"rock\" and computer_choice == \"scissors\") or \\\n",
    "         (player_choice == \"paper\" and computer_choice == \"rock\") or \\\n",
    "         (player_choice == \"scissors\" and computer_choice == \"paper\"):\n",
    "        return \"You win!\"\n",
    "    else:\n",
    "        return \"Computer wins!\"\n",
    "\n",
    "def play_game():\n",
    "    while True:\n",
    "        player_choice = input(\"Enter your choice (rock, paper, scissors): \").lower()\n",
    "\n",
    "        if player_choice not in [\"rock\", \"paper\", \"scissors\"]:\n",
    "            print(\"Invalid choice. Please enter rock, paper, or scissors.\")\n",
    "            continue\n",
    "\n",
    "        computer_choice = get_computer_choice()\n",
    "        print(f\"Computer chose: {computer_choice}\")\n",
    "\n",
    "        result = determine_winner(player_choice, computer_choice)\n",
    "        print(result)\n",
    "\n",
    "        play_again = input(\"Do you want to play again? (yes/no): \")\n",
    "        if play_again.lower() != \"yes\":\n",
    "            break\n",
    "\n",
    "if __name__ == \"__main__\":\n",
    "    play_game()"
   ]
  },
  {
   "cell_type": "code",
   "execution_count": 15,
   "id": "7e1343d4-5db7-47f4-90cd-597e4c03d47e",
   "metadata": {},
   "outputs": [
    {
     "name": "stdin",
     "output_type": "stream",
     "text": [
      "Player 1, enter your name:  mayuri\n",
      "Player 2, enter your name:  siddhu\n",
      "mayuri, enter your choice (rock, paper, scissors):  rock\n",
      "siddhu, enter your choice (rock, paper, scissors):  paper\n"
     ]
    },
    {
     "name": "stdout",
     "output_type": "stream",
     "text": [
      "mayuri chose: rock\n",
      "siddhu chose: paper\n",
      "siddhu wins!\n"
     ]
    },
    {
     "name": "stdin",
     "output_type": "stream",
     "text": [
      "Do you want to play again? (yes/no):  no\n"
     ]
    },
    {
     "name": "stdout",
     "output_type": "stream",
     "text": [
      "Thanks for playing!\n"
     ]
    }
   ],
   "source": [
    "#TASK-5\n",
    "def get_player_choice(player_name):\n",
    "    while True:\n",
    "        choice = input(f\"{player_name}, enter your choice (rock, paper, scissors): \").lower()\n",
    "        if choice in [\"rock\", \"paper\", \"scissors\"]:\n",
    "            return choice\n",
    "        else:\n",
    "            print(\"Invalid input. Please enter rock, paper, or scissors.\")\n",
    "\n",
    "def determine_winner(player1_choice, player2_choice, player1_name, player2_name):\n",
    "    if player1_choice == player2_choice:\n",
    "        return \"It's a tie!\"\n",
    "    elif (player1_choice == \"rock\" and player2_choice == \"scissors\") or \\\n",
    "         (player1_choice == \"paper\" and player2_choice == \"rock\") or \\\n",
    "         (player1_choice == \"scissors\" and player2_choice == \"paper\"):\n",
    "        return f\"{player1_name} wins!\"\n",
    "    return f\"{player2_name} wins!\"\n",
    "\n",
    "def play_game():\n",
    "    player1_name = input(\"Player 1, enter your name: \")\n",
    "    player2_name = input(\"Player 2, enter your name: \")\n",
    "\n",
    "    while True:\n",
    "        player1_choice = get_player_choice(player1_name)\n",
    "        player2_choice = get_player_choice(player2_name)\n",
    "\n",
    "        print(f\"{player1_name} chose: {player1_choice}\")\n",
    "        print(f\"{player2_name} chose: {player2_choice}\")\n",
    "\n",
    "        result = determine_winner(player1_choice, player2_choice, player1_name, player2_name)\n",
    "        print(result)\n",
    "\n",
    "        if input(\"Do you want to play again? (yes/no): \").lower() != \"yes\":\n",
    "            break\n",
    "\n",
    "    print(\"Thanks for playing!\")\n",
    "\n",
    "if __name__ == \"__main__\":\n",
    "    play_game()\n"
   ]
  },
  {
   "cell_type": "code",
   "execution_count": null,
   "id": "432e2ad2-7366-456d-9e88-ecc87305f430",
   "metadata": {},
   "outputs": [],
   "source": []
  }
 ],
 "metadata": {
  "kernelspec": {
   "display_name": "Python 3 (ipykernel)",
   "language": "python",
   "name": "python3"
  },
  "language_info": {
   "codemirror_mode": {
    "name": "ipython",
    "version": 3
   },
   "file_extension": ".py",
   "mimetype": "text/x-python",
   "name": "python",
   "nbconvert_exporter": "python",
   "pygments_lexer": "ipython3",
   "version": "3.12.4"
  }
 },
 "nbformat": 4,
 "nbformat_minor": 5
}
