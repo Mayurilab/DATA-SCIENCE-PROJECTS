{
 "cells": [
  {
   "cell_type": "code",
   "execution_count": 40,
   "id": "7ec05fa1-f541-40b9-abce-442a0a2e7240",
   "metadata": {},
   "outputs": [
    {
     "data": {
      "text/html": [
       "<div>\n",
       "<style scoped>\n",
       "    .dataframe tbody tr th:only-of-type {\n",
       "        vertical-align: middle;\n",
       "    }\n",
       "\n",
       "    .dataframe tbody tr th {\n",
       "        vertical-align: top;\n",
       "    }\n",
       "\n",
       "    .dataframe thead th {\n",
       "        text-align: right;\n",
       "    }\n",
       "</style>\n",
       "<table border=\"1\" class=\"dataframe\">\n",
       "  <thead>\n",
       "    <tr style=\"text-align: right;\">\n",
       "      <th></th>\n",
       "      <th>index</th>\n",
       "      <th>price</th>\n",
       "      <th>speed</th>\n",
       "      <th>hd</th>\n",
       "      <th>ram</th>\n",
       "      <th>screen</th>\n",
       "      <th>cd</th>\n",
       "      <th>multi</th>\n",
       "      <th>premium</th>\n",
       "      <th>ads_2022</th>\n",
       "      <th>ads_2023</th>\n",
       "      <th>trend</th>\n",
       "    </tr>\n",
       "  </thead>\n",
       "  <tbody>\n",
       "    <tr>\n",
       "      <th>0</th>\n",
       "      <td>1</td>\n",
       "      <td>1499</td>\n",
       "      <td>25</td>\n",
       "      <td>80</td>\n",
       "      <td>4</td>\n",
       "      <td>14</td>\n",
       "      <td>no</td>\n",
       "      <td>no</td>\n",
       "      <td>yes</td>\n",
       "      <td>94</td>\n",
       "      <td>94</td>\n",
       "      <td>1</td>\n",
       "    </tr>\n",
       "    <tr>\n",
       "      <th>1</th>\n",
       "      <td>2</td>\n",
       "      <td>1795</td>\n",
       "      <td>33</td>\n",
       "      <td>85</td>\n",
       "      <td>2</td>\n",
       "      <td>14</td>\n",
       "      <td>no</td>\n",
       "      <td>no</td>\n",
       "      <td>yes</td>\n",
       "      <td>94</td>\n",
       "      <td>94</td>\n",
       "      <td>1</td>\n",
       "    </tr>\n",
       "    <tr>\n",
       "      <th>2</th>\n",
       "      <td>3</td>\n",
       "      <td>1595</td>\n",
       "      <td>25</td>\n",
       "      <td>170</td>\n",
       "      <td>4</td>\n",
       "      <td>15</td>\n",
       "      <td>no</td>\n",
       "      <td>no</td>\n",
       "      <td>yes</td>\n",
       "      <td>94</td>\n",
       "      <td>94</td>\n",
       "      <td>1</td>\n",
       "    </tr>\n",
       "    <tr>\n",
       "      <th>3</th>\n",
       "      <td>4</td>\n",
       "      <td>1849</td>\n",
       "      <td>25</td>\n",
       "      <td>170</td>\n",
       "      <td>8</td>\n",
       "      <td>14</td>\n",
       "      <td>no</td>\n",
       "      <td>no</td>\n",
       "      <td>no</td>\n",
       "      <td>94</td>\n",
       "      <td>94</td>\n",
       "      <td>1</td>\n",
       "    </tr>\n",
       "    <tr>\n",
       "      <th>4</th>\n",
       "      <td>5</td>\n",
       "      <td>3295</td>\n",
       "      <td>33</td>\n",
       "      <td>340</td>\n",
       "      <td>16</td>\n",
       "      <td>14</td>\n",
       "      <td>no</td>\n",
       "      <td>no</td>\n",
       "      <td>yes</td>\n",
       "      <td>94</td>\n",
       "      <td>104</td>\n",
       "      <td>1</td>\n",
       "    </tr>\n",
       "    <tr>\n",
       "      <th>...</th>\n",
       "      <td>...</td>\n",
       "      <td>...</td>\n",
       "      <td>...</td>\n",
       "      <td>...</td>\n",
       "      <td>...</td>\n",
       "      <td>...</td>\n",
       "      <td>...</td>\n",
       "      <td>...</td>\n",
       "      <td>...</td>\n",
       "      <td>...</td>\n",
       "      <td>...</td>\n",
       "      <td>...</td>\n",
       "    </tr>\n",
       "    <tr>\n",
       "      <th>6254</th>\n",
       "      <td>6255</td>\n",
       "      <td>1690</td>\n",
       "      <td>100</td>\n",
       "      <td>528</td>\n",
       "      <td>8</td>\n",
       "      <td>15</td>\n",
       "      <td>no</td>\n",
       "      <td>no</td>\n",
       "      <td>yes</td>\n",
       "      <td>39</td>\n",
       "      <td>70</td>\n",
       "      <td>35</td>\n",
       "    </tr>\n",
       "    <tr>\n",
       "      <th>6255</th>\n",
       "      <td>6256</td>\n",
       "      <td>2223</td>\n",
       "      <td>66</td>\n",
       "      <td>850</td>\n",
       "      <td>16</td>\n",
       "      <td>15</td>\n",
       "      <td>yes</td>\n",
       "      <td>yes</td>\n",
       "      <td>yes</td>\n",
       "      <td>39</td>\n",
       "      <td>70</td>\n",
       "      <td>35</td>\n",
       "    </tr>\n",
       "    <tr>\n",
       "      <th>6256</th>\n",
       "      <td>6257</td>\n",
       "      <td>2654</td>\n",
       "      <td>100</td>\n",
       "      <td>1200</td>\n",
       "      <td>24</td>\n",
       "      <td>15</td>\n",
       "      <td>yes</td>\n",
       "      <td>no</td>\n",
       "      <td>yes</td>\n",
       "      <td>39</td>\n",
       "      <td>70</td>\n",
       "      <td>35</td>\n",
       "    </tr>\n",
       "    <tr>\n",
       "      <th>6257</th>\n",
       "      <td>6258</td>\n",
       "      <td>2195</td>\n",
       "      <td>100</td>\n",
       "      <td>850</td>\n",
       "      <td>16</td>\n",
       "      <td>15</td>\n",
       "      <td>yes</td>\n",
       "      <td>no</td>\n",
       "      <td>yes</td>\n",
       "      <td>39</td>\n",
       "      <td>70</td>\n",
       "      <td>35</td>\n",
       "    </tr>\n",
       "    <tr>\n",
       "      <th>6258</th>\n",
       "      <td>6259</td>\n",
       "      <td>2490</td>\n",
       "      <td>100</td>\n",
       "      <td>850</td>\n",
       "      <td>16</td>\n",
       "      <td>17</td>\n",
       "      <td>yes</td>\n",
       "      <td>no</td>\n",
       "      <td>yes</td>\n",
       "      <td>39</td>\n",
       "      <td>70</td>\n",
       "      <td>35</td>\n",
       "    </tr>\n",
       "  </tbody>\n",
       "</table>\n",
       "<p>6259 rows × 12 columns</p>\n",
       "</div>"
      ],
      "text/plain": [
       "      index  price  speed    hd  ram  screen   cd multi premium  ads_2022  \\\n",
       "0         1   1499     25    80    4      14   no    no     yes        94   \n",
       "1         2   1795     33    85    2      14   no    no     yes        94   \n",
       "2         3   1595     25   170    4      15   no    no     yes        94   \n",
       "3         4   1849     25   170    8      14   no    no      no        94   \n",
       "4         5   3295     33   340   16      14   no    no     yes        94   \n",
       "...     ...    ...    ...   ...  ...     ...  ...   ...     ...       ...   \n",
       "6254   6255   1690    100   528    8      15   no    no     yes        39   \n",
       "6255   6256   2223     66   850   16      15  yes   yes     yes        39   \n",
       "6256   6257   2654    100  1200   24      15  yes    no     yes        39   \n",
       "6257   6258   2195    100   850   16      15  yes    no     yes        39   \n",
       "6258   6259   2490    100   850   16      17  yes    no     yes        39   \n",
       "\n",
       "      ads_2023  trend  \n",
       "0           94      1  \n",
       "1           94      1  \n",
       "2           94      1  \n",
       "3           94      1  \n",
       "4          104      1  \n",
       "...        ...    ...  \n",
       "6254        70     35  \n",
       "6255        70     35  \n",
       "6256        70     35  \n",
       "6257        70     35  \n",
       "6258        70     35  \n",
       "\n",
       "[6259 rows x 12 columns]"
      ]
     },
     "execution_count": 40,
     "metadata": {},
     "output_type": "execute_result"
    }
   ],
   "source": [
    "import pandas as pd\n",
    "import warnings\n",
    "warnings.filterwarnings(\"ignore\")\n",
    "import numpy as np\n",
    "import matplotlib.pyplot as plt\n",
    "import math\n",
    "\n",
    "df=pd.read_csv(\"DS1_C8_Computers_Data_Project.csv\")\n",
    "df"
   ]
  },
  {
   "cell_type": "code",
   "execution_count": 2,
   "id": "23bf3d7f-3e2c-4321-ae83-e9306ededff2",
   "metadata": {},
   "outputs": [
    {
     "data": {
      "text/plain": [
       "(6259, 12)"
      ]
     },
     "execution_count": 2,
     "metadata": {},
     "output_type": "execute_result"
    }
   ],
   "source": [
    "df.shape"
   ]
  },
  {
   "cell_type": "code",
   "execution_count": 3,
   "id": "ae142c2a-13a9-4480-b249-c730a71b0750",
   "metadata": {},
   "outputs": [
    {
     "data": {
      "text/plain": [
       "Index(['index', 'price', 'speed', 'hd', 'ram', 'screen', 'cd', 'multi',\n",
       "       'premium', 'ads_2022', 'ads_2023', 'trend'],\n",
       "      dtype='object')"
      ]
     },
     "execution_count": 3,
     "metadata": {},
     "output_type": "execute_result"
    }
   ],
   "source": [
    "df.columns"
   ]
  },
  {
   "cell_type": "code",
   "execution_count": 4,
   "id": "b15ed855-2cd5-4a6d-869e-a4b8ec620fa2",
   "metadata": {},
   "outputs": [
    {
     "name": "stdout",
     "output_type": "stream",
     "text": [
      "<class 'pandas.core.frame.DataFrame'>\n",
      "RangeIndex: 6259 entries, 0 to 6258\n",
      "Data columns (total 12 columns):\n",
      " #   Column    Non-Null Count  Dtype \n",
      "---  ------    --------------  ----- \n",
      " 0   index     6259 non-null   int64 \n",
      " 1   price     6259 non-null   int64 \n",
      " 2   speed     6259 non-null   int64 \n",
      " 3   hd        6259 non-null   int64 \n",
      " 4   ram       6259 non-null   int64 \n",
      " 5   screen    6259 non-null   int64 \n",
      " 6   cd        6259 non-null   object\n",
      " 7   multi     6259 non-null   object\n",
      " 8   premium   6259 non-null   object\n",
      " 9   ads_2022  6259 non-null   int64 \n",
      " 10  ads_2023  6259 non-null   int64 \n",
      " 11  trend     6259 non-null   int64 \n",
      "dtypes: int64(9), object(3)\n",
      "memory usage: 586.9+ KB\n"
     ]
    }
   ],
   "source": [
    "df.info()"
   ]
  },
  {
   "cell_type": "code",
   "execution_count": 5,
   "id": "9ed228c0-079f-4a7f-b1b2-1e517cd5a43a",
   "metadata": {},
   "outputs": [
    {
     "data": {
      "text/plain": [
       "index       0\n",
       "price       0\n",
       "speed       0\n",
       "hd          0\n",
       "ram         0\n",
       "screen      0\n",
       "cd          0\n",
       "multi       0\n",
       "premium     0\n",
       "ads_2022    0\n",
       "ads_2023    0\n",
       "trend       0\n",
       "dtype: int64"
      ]
     },
     "execution_count": 5,
     "metadata": {},
     "output_type": "execute_result"
    }
   ],
   "source": [
    "df.isnull().sum()"
   ]
  },
  {
   "cell_type": "code",
   "execution_count": 6,
   "id": "962e2b7b-8fc5-448a-b928-334a7f0e977a",
   "metadata": {},
   "outputs": [
    {
     "data": {
      "text/html": [
       "<div>\n",
       "<style scoped>\n",
       "    .dataframe tbody tr th:only-of-type {\n",
       "        vertical-align: middle;\n",
       "    }\n",
       "\n",
       "    .dataframe tbody tr th {\n",
       "        vertical-align: top;\n",
       "    }\n",
       "\n",
       "    .dataframe thead th {\n",
       "        text-align: right;\n",
       "    }\n",
       "</style>\n",
       "<table border=\"1\" class=\"dataframe\">\n",
       "  <thead>\n",
       "    <tr style=\"text-align: right;\">\n",
       "      <th></th>\n",
       "      <th>index</th>\n",
       "      <th>price</th>\n",
       "      <th>speed</th>\n",
       "      <th>hd</th>\n",
       "      <th>ram</th>\n",
       "      <th>screen</th>\n",
       "      <th>ads_2022</th>\n",
       "      <th>ads_2023</th>\n",
       "      <th>trend</th>\n",
       "    </tr>\n",
       "  </thead>\n",
       "  <tbody>\n",
       "    <tr>\n",
       "      <th>0</th>\n",
       "      <td>1</td>\n",
       "      <td>1499</td>\n",
       "      <td>25</td>\n",
       "      <td>80</td>\n",
       "      <td>4</td>\n",
       "      <td>14</td>\n",
       "      <td>94</td>\n",
       "      <td>94</td>\n",
       "      <td>1</td>\n",
       "    </tr>\n",
       "    <tr>\n",
       "      <th>1</th>\n",
       "      <td>2</td>\n",
       "      <td>1795</td>\n",
       "      <td>33</td>\n",
       "      <td>85</td>\n",
       "      <td>2</td>\n",
       "      <td>14</td>\n",
       "      <td>94</td>\n",
       "      <td>94</td>\n",
       "      <td>1</td>\n",
       "    </tr>\n",
       "    <tr>\n",
       "      <th>2</th>\n",
       "      <td>3</td>\n",
       "      <td>1595</td>\n",
       "      <td>25</td>\n",
       "      <td>170</td>\n",
       "      <td>4</td>\n",
       "      <td>15</td>\n",
       "      <td>94</td>\n",
       "      <td>94</td>\n",
       "      <td>1</td>\n",
       "    </tr>\n",
       "    <tr>\n",
       "      <th>3</th>\n",
       "      <td>4</td>\n",
       "      <td>1849</td>\n",
       "      <td>25</td>\n",
       "      <td>170</td>\n",
       "      <td>8</td>\n",
       "      <td>14</td>\n",
       "      <td>94</td>\n",
       "      <td>94</td>\n",
       "      <td>1</td>\n",
       "    </tr>\n",
       "    <tr>\n",
       "      <th>4</th>\n",
       "      <td>5</td>\n",
       "      <td>3295</td>\n",
       "      <td>33</td>\n",
       "      <td>340</td>\n",
       "      <td>16</td>\n",
       "      <td>14</td>\n",
       "      <td>94</td>\n",
       "      <td>104</td>\n",
       "      <td>1</td>\n",
       "    </tr>\n",
       "    <tr>\n",
       "      <th>...</th>\n",
       "      <td>...</td>\n",
       "      <td>...</td>\n",
       "      <td>...</td>\n",
       "      <td>...</td>\n",
       "      <td>...</td>\n",
       "      <td>...</td>\n",
       "      <td>...</td>\n",
       "      <td>...</td>\n",
       "      <td>...</td>\n",
       "    </tr>\n",
       "    <tr>\n",
       "      <th>6254</th>\n",
       "      <td>6255</td>\n",
       "      <td>1690</td>\n",
       "      <td>100</td>\n",
       "      <td>528</td>\n",
       "      <td>8</td>\n",
       "      <td>15</td>\n",
       "      <td>39</td>\n",
       "      <td>70</td>\n",
       "      <td>35</td>\n",
       "    </tr>\n",
       "    <tr>\n",
       "      <th>6255</th>\n",
       "      <td>6256</td>\n",
       "      <td>2223</td>\n",
       "      <td>66</td>\n",
       "      <td>850</td>\n",
       "      <td>16</td>\n",
       "      <td>15</td>\n",
       "      <td>39</td>\n",
       "      <td>70</td>\n",
       "      <td>35</td>\n",
       "    </tr>\n",
       "    <tr>\n",
       "      <th>6256</th>\n",
       "      <td>6257</td>\n",
       "      <td>2654</td>\n",
       "      <td>100</td>\n",
       "      <td>1200</td>\n",
       "      <td>24</td>\n",
       "      <td>15</td>\n",
       "      <td>39</td>\n",
       "      <td>70</td>\n",
       "      <td>35</td>\n",
       "    </tr>\n",
       "    <tr>\n",
       "      <th>6257</th>\n",
       "      <td>6258</td>\n",
       "      <td>2195</td>\n",
       "      <td>100</td>\n",
       "      <td>850</td>\n",
       "      <td>16</td>\n",
       "      <td>15</td>\n",
       "      <td>39</td>\n",
       "      <td>70</td>\n",
       "      <td>35</td>\n",
       "    </tr>\n",
       "    <tr>\n",
       "      <th>6258</th>\n",
       "      <td>6259</td>\n",
       "      <td>2490</td>\n",
       "      <td>100</td>\n",
       "      <td>850</td>\n",
       "      <td>16</td>\n",
       "      <td>17</td>\n",
       "      <td>39</td>\n",
       "      <td>70</td>\n",
       "      <td>35</td>\n",
       "    </tr>\n",
       "  </tbody>\n",
       "</table>\n",
       "<p>6259 rows × 9 columns</p>\n",
       "</div>"
      ],
      "text/plain": [
       "      index  price  speed    hd  ram  screen  ads_2022  ads_2023  trend\n",
       "0         1   1499     25    80    4      14        94        94      1\n",
       "1         2   1795     33    85    2      14        94        94      1\n",
       "2         3   1595     25   170    4      15        94        94      1\n",
       "3         4   1849     25   170    8      14        94        94      1\n",
       "4         5   3295     33   340   16      14        94       104      1\n",
       "...     ...    ...    ...   ...  ...     ...       ...       ...    ...\n",
       "6254   6255   1690    100   528    8      15        39        70     35\n",
       "6255   6256   2223     66   850   16      15        39        70     35\n",
       "6256   6257   2654    100  1200   24      15        39        70     35\n",
       "6257   6258   2195    100   850   16      15        39        70     35\n",
       "6258   6259   2490    100   850   16      17        39        70     35\n",
       "\n",
       "[6259 rows x 9 columns]"
      ]
     },
     "execution_count": 6,
     "metadata": {},
     "output_type": "execute_result"
    }
   ],
   "source": [
    "NC= df.select_dtypes(exclude=\"object\")\n",
    "NC"
   ]
  },
  {
   "cell_type": "code",
   "execution_count": 7,
   "id": "673340cc-c18e-4bef-81dc-ff3b8b849b4b",
   "metadata": {},
   "outputs": [
    {
     "data": {
      "text/html": [
       "<div>\n",
       "<style scoped>\n",
       "    .dataframe tbody tr th:only-of-type {\n",
       "        vertical-align: middle;\n",
       "    }\n",
       "\n",
       "    .dataframe tbody tr th {\n",
       "        vertical-align: top;\n",
       "    }\n",
       "\n",
       "    .dataframe thead th {\n",
       "        text-align: right;\n",
       "    }\n",
       "</style>\n",
       "<table border=\"1\" class=\"dataframe\">\n",
       "  <thead>\n",
       "    <tr style=\"text-align: right;\">\n",
       "      <th></th>\n",
       "      <th>cd</th>\n",
       "      <th>multi</th>\n",
       "      <th>premium</th>\n",
       "    </tr>\n",
       "  </thead>\n",
       "  <tbody>\n",
       "    <tr>\n",
       "      <th>0</th>\n",
       "      <td>no</td>\n",
       "      <td>no</td>\n",
       "      <td>yes</td>\n",
       "    </tr>\n",
       "    <tr>\n",
       "      <th>1</th>\n",
       "      <td>no</td>\n",
       "      <td>no</td>\n",
       "      <td>yes</td>\n",
       "    </tr>\n",
       "    <tr>\n",
       "      <th>2</th>\n",
       "      <td>no</td>\n",
       "      <td>no</td>\n",
       "      <td>yes</td>\n",
       "    </tr>\n",
       "    <tr>\n",
       "      <th>3</th>\n",
       "      <td>no</td>\n",
       "      <td>no</td>\n",
       "      <td>no</td>\n",
       "    </tr>\n",
       "    <tr>\n",
       "      <th>4</th>\n",
       "      <td>no</td>\n",
       "      <td>no</td>\n",
       "      <td>yes</td>\n",
       "    </tr>\n",
       "    <tr>\n",
       "      <th>...</th>\n",
       "      <td>...</td>\n",
       "      <td>...</td>\n",
       "      <td>...</td>\n",
       "    </tr>\n",
       "    <tr>\n",
       "      <th>6254</th>\n",
       "      <td>no</td>\n",
       "      <td>no</td>\n",
       "      <td>yes</td>\n",
       "    </tr>\n",
       "    <tr>\n",
       "      <th>6255</th>\n",
       "      <td>yes</td>\n",
       "      <td>yes</td>\n",
       "      <td>yes</td>\n",
       "    </tr>\n",
       "    <tr>\n",
       "      <th>6256</th>\n",
       "      <td>yes</td>\n",
       "      <td>no</td>\n",
       "      <td>yes</td>\n",
       "    </tr>\n",
       "    <tr>\n",
       "      <th>6257</th>\n",
       "      <td>yes</td>\n",
       "      <td>no</td>\n",
       "      <td>yes</td>\n",
       "    </tr>\n",
       "    <tr>\n",
       "      <th>6258</th>\n",
       "      <td>yes</td>\n",
       "      <td>no</td>\n",
       "      <td>yes</td>\n",
       "    </tr>\n",
       "  </tbody>\n",
       "</table>\n",
       "<p>6259 rows × 3 columns</p>\n",
       "</div>"
      ],
      "text/plain": [
       "       cd multi premium\n",
       "0      no    no     yes\n",
       "1      no    no     yes\n",
       "2      no    no     yes\n",
       "3      no    no      no\n",
       "4      no    no     yes\n",
       "...   ...   ...     ...\n",
       "6254   no    no     yes\n",
       "6255  yes   yes     yes\n",
       "6256  yes    no     yes\n",
       "6257  yes    no     yes\n",
       "6258  yes    no     yes\n",
       "\n",
       "[6259 rows x 3 columns]"
      ]
     },
     "execution_count": 7,
     "metadata": {},
     "output_type": "execute_result"
    }
   ],
   "source": [
    "CC= df.select_dtypes(include=\"object\")\n",
    "CC"
   ]
  },
  {
   "cell_type": "code",
   "execution_count": 8,
   "id": "3887e279-1001-4f99-a269-c3e16754b77c",
   "metadata": {},
   "outputs": [
    {
     "data": {
      "text/plain": [
       "['index',\n",
       " 'price',\n",
       " 'speed',\n",
       " 'hd',\n",
       " 'ram',\n",
       " 'screen',\n",
       " 'ads_2022',\n",
       " 'ads_2023',\n",
       " 'trend']"
      ]
     },
     "execution_count": 8,
     "metadata": {},
     "output_type": "execute_result"
    }
   ],
   "source": [
    "n_list=list(NC.columns)\n",
    "n_list"
   ]
  },
  {
   "cell_type": "code",
   "execution_count": 9,
   "id": "d2d0e861-c13a-4122-9d60-8537f63238b5",
   "metadata": {},
   "outputs": [
    {
     "data": {
      "text/plain": [
       "['cd', 'multi', 'premium']"
      ]
     },
     "execution_count": 9,
     "metadata": {},
     "output_type": "execute_result"
    }
   ],
   "source": [
    "c_list=list(CC.columns)\n",
    "c_list"
   ]
  },
  {
   "cell_type": "code",
   "execution_count": 10,
   "id": "dbd1e41a-61c6-464d-913e-4dcf52d4323a",
   "metadata": {},
   "outputs": [
    {
     "name": "stdout",
     "output_type": "stream",
     "text": [
      "categorical    numerical\n",
      "-------------  -----------\n",
      "cd             index\n",
      "multi          price\n",
      "premium        speed\n",
      "               hd\n",
      "               ram\n",
      "               screen\n",
      "               ads_2022\n",
      "               ads_2023\n",
      "               trend\n"
     ]
    }
   ],
   "source": [
    "from tabulate import tabulate\n",
    "table=[n_list,c_list]\n",
    "print(tabulate({\"categorical\":c_list,\"numerical\":n_list},headers=[\"categorical\",\"numerical\"]))"
   ]
  },
  {
   "cell_type": "markdown",
   "id": "24e9fac7-ec7e-4a79-a8e7-40dd67e800fd",
   "metadata": {},
   "source": [
    "# Task-1:"
   ]
  },
  {
   "cell_type": "markdown",
   "id": "f5366d01-6aa7-4eeb-aee3-60737ede9ea6",
   "metadata": {},
   "source": [
    "# Business Objective - 4: Analyzing advertising budget for premium computers by identifying budget allocation"
   ]
  },
  {
   "cell_type": "code",
   "execution_count": null,
   "id": "ca4caabd-ac0c-414f-b5de-ddbd088fae60",
   "metadata": {},
   "outputs": [],
   "source": [
    "# Step 1: Establish the null and alternative hypothesis:\n",
    "H0: The mean advertising budget in 2023 is equal to or less than that of 2022 (mu=221.3)\n",
    "H1:The mean advertising budget in 2023 is greater than that of 2022 (mu=221.3)"
   ]
  },
  {
   "cell_type": "code",
   "execution_count": null,
   "id": "bf9ded4b-63bc-4c50-9621-7625f1cbe63c",
   "metadata": {},
   "outputs": [],
   "source": [
    "# Step2: Symbolise\n",
    "H0:p<=221.3\n",
    "H1:P>221.3\n",
    "#So here we have to perform right-tailed test"
   ]
  },
  {
   "cell_type": "code",
   "execution_count": null,
   "id": "7eab48fa-2743-4b63-bab3-b753822f342c",
   "metadata": {},
   "outputs": [],
   "source": [
    "#Step:3\n",
    "#Information about the data set\n",
    "sample size n =49\n",
    "population mean: 221.3\n",
    "population standard deviation = 74.83\n",
    "alpha = 5%= 0.05"
   ]
  },
  {
   "cell_type": "code",
   "execution_count": null,
   "id": "0447f4d3-63da-4038-a038-073162d4ea51",
   "metadata": {},
   "outputs": [],
   "source": [
    "#Step 4: Establish the decision rule\n",
    "i) if p_value<alpha: rejection of null hypothesis(H0)\n",
    "ii) if -t-critical > t-statistic> +t-critical: Rejection of null hypothesis(H0)"
   ]
  },
  {
   "cell_type": "code",
   "execution_count": null,
   "id": "753dae5c-0c41-483f-bb1d-6bcd72fe27fb",
   "metadata": {},
   "outputs": [],
   "source": [
    "#Step 5: Gather the sample data\n",
    "premium_data = df[df['premium'] == 'yes']\n",
    "premium_data"
   ]
  },
  {
   "cell_type": "code",
   "execution_count": null,
   "id": "5efe8b4e-e98c-4817-b780-8e3be8ac653f",
   "metadata": {},
   "outputs": [],
   "source": [
    "# Extracting the 2023 advertising budget for premium computers\n",
    "ads_2023_premium = premium_data['ads_2023']\n",
    "ads_2023_premium"
   ]
  },
  {
   "cell_type": "code",
   "execution_count": null,
   "id": "d3ba54a4-2b1a-4c0d-ad1f-4b3cc4400173",
   "metadata": {},
   "outputs": [],
   "source": [
    "sample_df=ads_2023_premium.sample(n=40, random_state=1)\n",
    "sample_df"
   ]
  },
  {
   "cell_type": "code",
   "execution_count": null,
   "id": "7cc4ba37-32a2-4b98-9f32-b87c76639c04",
   "metadata": {},
   "outputs": [],
   "source": [
    "import statistics as st\n",
    "import math\n",
    "from scipy.stats import norm\n",
    "import numpy as np"
   ]
  },
  {
   "cell_type": "code",
   "execution_count": null,
   "id": "a9bceb00-4939-41c2-9b31-ea25ff8de27a",
   "metadata": {},
   "outputs": [],
   "source": [
    "import random\n",
    "\n",
    "sample_size = 40\n",
    "sample_ads_2023 = ads_2023_premium.sample(n=sample_size, random_state=1)\n",
    "\n",
    "# Given values\n",
    "mu_2022 = 221.3  # Mean advertising budget in 2022\n",
    "sigma = 74.83    # Population standard deviation\n",
    "#n = len(sample_ads_2023)  # Sample size\n",
    "alpha = 0.05     # Level of significance\n",
    "\n",
    "# Sample mean for the selected 40 samples\n",
    "sample_mean = st.mean(sample_ads_2023)\n",
    "\n",
    "# The z-statistic\n",
    "z_statistic = (sample_mean - mu_2022) / (sigma / np.sqrt(n))\n",
    "\n",
    "# p-value for a one-sided right-tailed test\n",
    "p_value = norm.sf(abs(z_statistic))\n",
    "\n",
    "# The critical z-value for a one-sided right-tailed test\n",
    "z_critical = norm.ppf(1 - alpha)\n",
    "\n",
    "# Display results\n",
    "print(\"Sample Mean (2023):\", sample_mean)\n",
    "print(\"Z-statistic:\", z_statistic)\n",
    "print(\"P-value:\", p_value)\n",
    "print(\"Z-critical value:\", z_critical)\n",
    "if p_value < alpha:\n",
    "    print(\"Conclusion: Reject H0: There is enough evidence to support the claim.\")\n",
    "else:\n",
    "    print(\"Conclusion: Failed to reject H0: There is not enough evidence to support the claim.\")\n"
   ]
  },
  {
   "cell_type": "code",
   "execution_count": null,
   "id": "82428084-d60c-4ecd-bfa7-925bb00fe3ce",
   "metadata": {},
   "outputs": [],
   "source": [
    "#Distribution plot\n",
    "\n",
    "import matplotlib.pyplot as plt\n",
    "\n",
    "z_statistic = -0.8663195514292634\n",
    "z_critical = 1.6448536269514722\n",
    "alpha = 0.05\n",
    "\n",
    "z = np.linspace(-3, 3, 500)\n",
    "pdf = norm.pdf(z)\n",
    "\n",
    "plt.figure(figsize=(10, 6))\n",
    "plt.plot(z, pdf, color='blue', label=\"Standard Normal Distribution\")\n",
    "plt.fill_between(z, 0, pdf, where=(z > z_critical), color='red', alpha=0.5, label=\"Rejection Region (α = 0.05)\")\n",
    "plt.axvline(z_statistic, color='green', linestyle='--', linewidth=2, label=f\"Z-statistic = {z_statistic:.2f}\")\n",
    "plt.text(z_statistic + 0.1, 0.1, \"Z-statistic\", fontsize=10, color='green')\n",
    "plt.title(\"Z-Test Distribution Plot\", fontsize=14)\n",
    "plt.xlabel(\"Z-Value\", fontsize=12)\n",
    "plt.ylabel(\"Probability Density\", fontsize=12)\n",
    "plt.legend()\n",
    "plt.grid(alpha=0.4)\n",
    "plt.show()"
   ]
  },
  {
   "cell_type": "raw",
   "id": "b7e8a39b-18e4-46a9-b037-efcd1225305b",
   "metadata": {},
   "source": [
    "Interpretation:\n",
    "\n",
    "Since the absolute value of the Z-statistic (-0.8663) is less than the Z-critical value (1.6449), we fail to reject the null hypothesis.\n",
    "The P-value (0.1932) is greater than the significance level (alpha = 0.05), which also supports the conclusion to fail to reject the null hypothesis.\n",
    "Therefore, there is no significant difference between the sample mean and the hypothesized population mean at the 5% significance level. There is insufficient evidence to conclude that the mean advertising budget in 2023 is higher than in 2022."
   ]
  },
  {
   "cell_type": "code",
   "execution_count": null,
   "id": "83884d30-9b7b-4941-a1ef-4a78704c1230",
   "metadata": {},
   "outputs": [],
   "source": [
    "Business_Conclusion=\"\"\"Based on the analysis, I tested Maya's hypothesis that the mean advertising budget for promoting premium computers in 2023 is higher than that in 2022. However, the statistical evidence does not support this claim:\n",
    "\n",
    "Test Results:\n",
    "\n",
    "The z-statistic (-0.8663) is less than the critical z-value (1.6449).\n",
    "The p-value (0.1932) is greater than the significance level (0.05).\n",
    "Conclusion: At the 5% level of significance, we fail to reject the null hypothesis. This means there isn't sufficient evidence to conclude that the advertising budget in 2023 is significantly higher than in 2022.\n",
    "\n",
    "Business Implications:\n",
    "\n",
    "The observed increase in the advertising budget for 2023 compared to 2022 might not reflect a meaningful or impactful change. It could be a result of random variation rather than a deliberate or effective increase in promotional efforts.\n",
    "The company should reassess its advertising strategy for premium computers. Additional investments should be aligned with measurable outcomes, such as increased sales or market share, to ensure the effectiveness of the budget allocation.\"\"\"\n",
    "\n",
    "print(Business_Conclusion)"
   ]
  },
  {
   "cell_type": "markdown",
   "id": "d2efae51-1aa9-429a-bbb3-d6f28a475e0d",
   "metadata": {},
   "source": [
    "# Task-2:"
   ]
  },
  {
   "cell_type": "markdown",
   "id": "2f0888dd-b147-42fc-a28a-fc84462e1c2e",
   "metadata": {},
   "source": [
    "# Business Objective - 5: Evaluate the price difference between computers with and without CD players"
   ]
  },
  {
   "cell_type": "code",
   "execution_count": null,
   "id": "b4094ebd-41a2-4a27-9afb-d86dfe4ef996",
   "metadata": {},
   "outputs": [],
   "source": [
    "H0:There is no significant difference in the average price of computers with and without CD players\n",
    "H1:There is a significant difference in the average price of computers with and without CD players"
   ]
  },
  {
   "cell_type": "code",
   "execution_count": null,
   "id": "8b7b2065-30f9-406d-bb17-2ca1a6cd7399",
   "metadata": {},
   "outputs": [],
   "source": [
    "H0: mu1-mu2 = 0 average price of computers with cd player = average price of computers without cd player\n",
    "H1: mu1-mu2!= 0 average price of computers with cd player != average price of computers without cd player"
   ]
  },
  {
   "cell_type": "code",
   "execution_count": null,
   "id": "8c4c246f-7e24-42e6-8376-511895943040",
   "metadata": {},
   "outputs": [],
   "source": [
    "Establish the decision rule\n",
    "i) if p_value<alpha: rejection of null hypothesis(H0)\n",
    "ii) if -t-critical > t-statistic> +t-critical: Rejection of null hypothesis(H0)"
   ]
  },
  {
   "cell_type": "code",
   "execution_count": 26,
   "id": "e6854eb7-039e-4f09-be07-d48b425e810a",
   "metadata": {},
   "outputs": [],
   "source": [
    "# Separating the data into two groups: with CD and without CD players\n",
    "with_cd = df[df['cd'] == 'yes'][['price']]\n",
    "without_cd = df[df['cd'] == 'no'][['price']]"
   ]
  },
  {
   "cell_type": "code",
   "execution_count": 28,
   "id": "1c34ef57-1c00-4e92-a2a7-8283c0d25760",
   "metadata": {},
   "outputs": [
    {
     "data": {
      "text/html": [
       "<div>\n",
       "<style scoped>\n",
       "    .dataframe tbody tr th:only-of-type {\n",
       "        vertical-align: middle;\n",
       "    }\n",
       "\n",
       "    .dataframe tbody tr th {\n",
       "        vertical-align: top;\n",
       "    }\n",
       "\n",
       "    .dataframe thead th {\n",
       "        text-align: right;\n",
       "    }\n",
       "</style>\n",
       "<table border=\"1\" class=\"dataframe\">\n",
       "  <thead>\n",
       "    <tr style=\"text-align: right;\">\n",
       "      <th></th>\n",
       "      <th>price</th>\n",
       "    </tr>\n",
       "  </thead>\n",
       "  <tbody>\n",
       "    <tr>\n",
       "      <th>6</th>\n",
       "      <td>1720</td>\n",
       "    </tr>\n",
       "    <tr>\n",
       "      <th>30</th>\n",
       "      <td>1920</td>\n",
       "    </tr>\n",
       "    <tr>\n",
       "      <th>63</th>\n",
       "      <td>2220</td>\n",
       "    </tr>\n",
       "    <tr>\n",
       "      <th>70</th>\n",
       "      <td>4020</td>\n",
       "    </tr>\n",
       "    <tr>\n",
       "      <th>77</th>\n",
       "      <td>3220</td>\n",
       "    </tr>\n",
       "    <tr>\n",
       "      <th>...</th>\n",
       "      <td>...</td>\n",
       "    </tr>\n",
       "    <tr>\n",
       "      <th>6253</th>\n",
       "      <td>2154</td>\n",
       "    </tr>\n",
       "    <tr>\n",
       "      <th>6255</th>\n",
       "      <td>2223</td>\n",
       "    </tr>\n",
       "    <tr>\n",
       "      <th>6256</th>\n",
       "      <td>2654</td>\n",
       "    </tr>\n",
       "    <tr>\n",
       "      <th>6257</th>\n",
       "      <td>2195</td>\n",
       "    </tr>\n",
       "    <tr>\n",
       "      <th>6258</th>\n",
       "      <td>2490</td>\n",
       "    </tr>\n",
       "  </tbody>\n",
       "</table>\n",
       "<p>2908 rows × 1 columns</p>\n",
       "</div>"
      ],
      "text/plain": [
       "      price\n",
       "6      1720\n",
       "30     1920\n",
       "63     2220\n",
       "70     4020\n",
       "77     3220\n",
       "...     ...\n",
       "6253   2154\n",
       "6255   2223\n",
       "6256   2654\n",
       "6257   2195\n",
       "6258   2490\n",
       "\n",
       "[2908 rows x 1 columns]"
      ]
     },
     "execution_count": 28,
     "metadata": {},
     "output_type": "execute_result"
    }
   ],
   "source": [
    "with_cd"
   ]
  },
  {
   "cell_type": "code",
   "execution_count": 30,
   "id": "d3470557-791e-46a9-80cf-2352d3b70d42",
   "metadata": {},
   "outputs": [
    {
     "data": {
      "text/html": [
       "<div>\n",
       "<style scoped>\n",
       "    .dataframe tbody tr th:only-of-type {\n",
       "        vertical-align: middle;\n",
       "    }\n",
       "\n",
       "    .dataframe tbody tr th {\n",
       "        vertical-align: top;\n",
       "    }\n",
       "\n",
       "    .dataframe thead th {\n",
       "        text-align: right;\n",
       "    }\n",
       "</style>\n",
       "<table border=\"1\" class=\"dataframe\">\n",
       "  <thead>\n",
       "    <tr style=\"text-align: right;\">\n",
       "      <th></th>\n",
       "      <th>price</th>\n",
       "    </tr>\n",
       "  </thead>\n",
       "  <tbody>\n",
       "    <tr>\n",
       "      <th>0</th>\n",
       "      <td>1499</td>\n",
       "    </tr>\n",
       "    <tr>\n",
       "      <th>1</th>\n",
       "      <td>1795</td>\n",
       "    </tr>\n",
       "    <tr>\n",
       "      <th>2</th>\n",
       "      <td>1595</td>\n",
       "    </tr>\n",
       "    <tr>\n",
       "      <th>3</th>\n",
       "      <td>1849</td>\n",
       "    </tr>\n",
       "    <tr>\n",
       "      <th>4</th>\n",
       "      <td>3295</td>\n",
       "    </tr>\n",
       "    <tr>\n",
       "      <th>...</th>\n",
       "      <td>...</td>\n",
       "    </tr>\n",
       "    <tr>\n",
       "      <th>6240</th>\n",
       "      <td>1595</td>\n",
       "    </tr>\n",
       "    <tr>\n",
       "      <th>6246</th>\n",
       "      <td>1554</td>\n",
       "    </tr>\n",
       "    <tr>\n",
       "      <th>6247</th>\n",
       "      <td>1654</td>\n",
       "    </tr>\n",
       "    <tr>\n",
       "      <th>6252</th>\n",
       "      <td>1690</td>\n",
       "    </tr>\n",
       "    <tr>\n",
       "      <th>6254</th>\n",
       "      <td>1690</td>\n",
       "    </tr>\n",
       "  </tbody>\n",
       "</table>\n",
       "<p>3351 rows × 1 columns</p>\n",
       "</div>"
      ],
      "text/plain": [
       "      price\n",
       "0      1499\n",
       "1      1795\n",
       "2      1595\n",
       "3      1849\n",
       "4      3295\n",
       "...     ...\n",
       "6240   1595\n",
       "6246   1554\n",
       "6247   1654\n",
       "6252   1690\n",
       "6254   1690\n",
       "\n",
       "[3351 rows x 1 columns]"
      ]
     },
     "execution_count": 30,
     "metadata": {},
     "output_type": "execute_result"
    }
   ],
   "source": [
    "without_cd"
   ]
  },
  {
   "cell_type": "code",
   "execution_count": 32,
   "id": "f7e10cc7-3eef-433d-87e6-53d556c8ff69",
   "metadata": {},
   "outputs": [
    {
     "name": "stdout",
     "output_type": "stream",
     "text": [
      "with_cd_mean: 2342.6055708390645\n",
      "with_cd_std: 527.4477919505294\n",
      "with_cd_var: 278201.173233489\n"
     ]
    }
   ],
   "source": [
    "#sample 1: With CD_PLAYER\n",
    "#Information about the data set\n",
    "\n",
    "import statistics as st\n",
    "n1=len(with_cd)\n",
    "with_cd_mean= st.mean(with_cd[\"price\"])\n",
    "print(\"with_cd_mean:\", with_cd_mean)\n",
    "with_cd_std = st.stdev(with_cd[\"price\"])\n",
    "print(\"with_cd_std:\", with_cd_std)\n",
    "with_cd_var=with_cd_std**2\n",
    "print(\"with_cd_var:\", with_cd_var)\n",
    "alpha= 0.05"
   ]
  },
  {
   "cell_type": "code",
   "execution_count": 42,
   "id": "ed7044b8-0cad-49cf-9274-37433c3ebaa0",
   "metadata": {},
   "outputs": [
    {
     "name": "stdout",
     "output_type": "stream",
     "text": [
      "without_cd_mean: 2112.8119964189796\n",
      "without_cd_std: 603.494237086272\n",
      "without_cd_var: 364205.29419634154\n"
     ]
    }
   ],
   "source": [
    "#sample 2: Without CD_PLAYER\n",
    "#Information about the data set\n",
    "\n",
    "import statistics as st\n",
    "n2=len(without_cd)\n",
    "without_cd_mean= st.mean(without_cd[\"price\"])\n",
    "print(\"without_cd_mean:\", without_cd_mean)\n",
    "without_cd_std = st.stdev(without_cd[\"price\"])\n",
    "print(\"without_cd_std:\", without_cd_std)\n",
    "without_cd_var=without_cd_std**2\n",
    "print(\"without_cd_var:\", without_cd_var)\n",
    "alpha= 0.05"
   ]
  },
  {
   "cell_type": "code",
   "execution_count": 44,
   "id": "c1acb5af-0a39-4266-90b5-4b1907f88195",
   "metadata": {},
   "outputs": [
    {
     "name": "stdout",
     "output_type": "stream",
     "text": [
      "z_statistic_1: 16.07486310306849\n",
      "p_value_1: 3.8283817362952e-58\n",
      "z_critical_1: 1.959963984540054\n"
     ]
    }
   ],
   "source": [
    "z_statistic_1 = ((with_cd_mean -without_cd_mean)-0)/math.sqrt((with_cd_var/n1 + without_cd_var/n2))\n",
    "\n",
    "p_value_1 = norm.sf(abs(z_statistic_1)) * 2 #two tailed test\n",
    "\n",
    "z_critical_1 = norm.ppf(1-alpha/2) # two tailed test\n",
    "\n",
    "print(\"z_statistic_1:\",z_statistic_1)\n",
    "print(\"p_value_1:\",p_value_1)\n",
    "print(\"z_critical_1:\",z_critical_1)"
   ]
  },
  {
   "cell_type": "code",
   "execution_count": 46,
   "id": "6f3a5280-d910-454f-a19a-1d4fce9b0ba0",
   "metadata": {},
   "outputs": [
    {
     "data": {
      "image/png": "[encoded data removed]",
      "text/plain": [
       "<Figure size 1000x600 with 1 Axes>"
      ]
     },
     "metadata": {},
     "output_type": "display_data"
    }
   ],
   "source": [
    "#Distribution plot\n",
    "\n",
    "import numpy as np\n",
    "import matplotlib.pyplot as plt\n",
    "from scipy.stats import norm\n",
    "\n",
    "z_statistic = 1.4335172808223826\n",
    "z_critical = 1.959963984540054\n",
    "alpha = 0.05\n",
    "\n",
    "z = np.linspace(-3, 3, 500)\n",
    "pdf = norm.pdf(z)\n",
    "\n",
    "plt.figure(figsize=(10, 6))\n",
    "plt.plot(z, pdf, color='blue', label=\"Standard Normal Distribution\")\n",
    "plt.fill_between(z, 0, pdf, where=(np.abs(z) > z_critical), color='red', alpha=0.5, label=\"Rejection Region (α = 0.05)\")\n",
    "plt.axvline(z_statistic, color='green', linestyle='--', linewidth=2, label=f\"Z-statistic = {z_statistic:.2f}\")\n",
    "plt.axvline(-z_critical, color='orange', linestyle='--', linewidth=2, label=f\"Z-critical = ±{z_critical:.2f}\")\n",
    "plt.axvline(z_critical, color='orange', linestyle='--', linewidth=2)\n",
    "plt.text(z_statistic + 0.1, 0.1, \"Z-statistic\", fontsize=10, color='green')\n",
    "plt.title(\"Z-Test Distribution Plot\", fontsize=14)\n",
    "plt.xlabel(\"Z-Value\", fontsize=12)\n",
    "plt.ylabel(\"Probability Density\", fontsize=12)\n",
    "plt.legend()\n",
    "plt.grid(alpha=0.4)\n",
    "plt.show()\n"
   ]
  },
  {
   "cell_type": "code",
   "execution_count": 50,
   "id": "f9b7a4b4-8d99-45e0-a70c-442ec902c89b",
   "metadata": {},
   "outputs": [
    {
     "name": "stdout",
     "output_type": "stream",
     "text": [
      "Reject H0: There is a statistically significant difference in the average price of computers with and without CD players.\n"
     ]
    }
   ],
   "source": [
    "if p_value_1 < alpha:\n",
    "    print(\"Reject H0: There is a statistically significant difference in the average price of computers with and without CD players.\")\n",
    "else:\n",
    "    print(\"Fail to reject H0: There is no statistically significant difference in the average price of computers with and without CD players.\")"
   ]
  },
  {
   "cell_type": "raw",
   "id": "bde82ca9-7dbb-4b9f-b096-04316bf0f3ed",
   "metadata": {},
   "source": [
    "Implications for the Business:\n",
    "\n",
    "Price Differentiation:\n",
    "Computers with CD players command a noticeably different average price compared to those without. This indicates that the presence of a CD player is likely perceived as a value-adding feature or aligns with other higher-end specifications.\n",
    "\n",
    "Targeted Marketing:\n",
    "\n",
    "If CD players are associated with higher-priced computers, market them as premium products to customers who value such features (e.g., professionals or institutions requiring physical media).\n",
    "Highlight the benefits of having a CD player in product descriptions and promotional campaigns to justify the price premium.\n",
    "\n",
    "Product Strategy:\n",
    "\n",
    "If market demand for CD players is declining due to technological advancements (e.g., cloud storage, USB drives), evaluate whether maintaining CD players in newer models is cost-effective.\n",
    "If CD players are still in demand within a niche segment, continue offering them in specific product lines while phasing them out in others.\n",
    "Profit Optimization:\n",
    "\n",
    "Price computers with CD players strategically to maximize profit margins, ensuring the added cost aligns with customer willingness to pay.\n",
    "Consider bundling CD players with complementary accessories or software to enhance perceived value."
   ]
  },
  {
   "cell_type": "markdown",
   "id": "bfe685b3-0e88-4842-8673-fd095b2f50b1",
   "metadata": {},
   "source": [
    "# Task-3:"
   ]
  },
  {
   "cell_type": "markdown",
   "id": "950a0583-68f2-44f3-876e-cfd7a6ae28b9",
   "metadata": {},
   "source": [
    "# Business Objective - 6: Analyze premium computer pricing strategy"
   ]
  },
  {
   "cell_type": "markdown",
   "id": "a88baf41-8733-4633-8ec6-3e731f11ce49",
   "metadata": {},
   "source": [
    "# i) Identify price discrepancy for premium computers"
   ]
  },
  {
   "cell_type": "code",
   "execution_count": null,
   "id": "8b61f20d-a710-44be-a908-90762429ad68",
   "metadata": {},
   "outputs": [],
   "source": [
    "Null and Alternative Hypotheses:\n",
    "H0: The mean price of premium computers = 2200\n",
    "Ha: The mean price of premium computers!= 2200"
   ]
  },
  {
   "cell_type": "code",
   "execution_count": null,
   "id": "0a31f46f-51b7-404a-93d9-e99f907f856f",
   "metadata": {},
   "outputs": [],
   "source": [
    "H0:p=2200\n",
    "H1:P!=2200"
   ]
  },
  {
   "cell_type": "code",
   "execution_count": null,
   "id": "6a6a748e-c4d9-4e8c-afaa-aad58327f436",
   "metadata": {},
   "outputs": [],
   "source": [
    "Establish the decision rule\n",
    "i) if p_value<alpha: rejection of null hypothesis(H0)\n",
    "ii) if -t-critical > t-statistic> +t-critical: Rejection of null hypothesis(H0)"
   ]
  },
  {
   "cell_type": "code",
   "execution_count": null,
   "id": "15f818e8-f43e-40f9-9459-6e7679946ffb",
   "metadata": {},
   "outputs": [],
   "source": [
    "import math\n",
    "import statistics as st\n",
    "from scipy.stats import t\n",
    "import pandas as pd\n",
    "\n",
    "\n",
    "# Parameters\n",
    "mu = 2200  # Hypothesized mean\n",
    "alpha = 0.05  # Significance level\n",
    "\n",
    "# Selecting 25 samples from the dataframe\n",
    "sample_size = 25\n",
    "dof = sample_size - 1  # Degrees of freedom\n",
    "\n",
    "# Filter for premium data\n",
    "premium_data = df[df['premium'] == 'yes']\n",
    "\n",
    "# Randomly select 25 samples from the premium computers\n",
    "sample_data = premium_data['price'].sample(n=sample_size, random_state=1)\n",
    "\n",
    "# Sample statistics\n",
    "sample_mean = st.mean(sample_data)\n",
    "sample_std = st.stdev(sample_data)\n",
    "\n",
    "# The t-statistic\n",
    "t_statistic = (sample_mean - mu) / (sample_std / math.sqrt(sample_size))\n",
    "\n",
    "# The p-value for two-tailed test\n",
    "p_value = t.sf(abs(t_statistic), df=dof) * 2  # Two-tailed test\n",
    "\n",
    "# The t-critical value for two-tailed test\n",
    "t_critical = t.ppf(1 - alpha / 2, df=dof)  # Two-tailed test\n",
    "\n",
    "# Display results\n",
    "print(\"Sample Mean:\", sample_mean)\n",
    "print(\"Sample Standard Deviation:\", sample_std)\n",
    "print(\"T-statistic:\", t_statistic)\n",
    "print(\"P-value:\", p_value)\n",
    "print(\"T-critical Value:\", t_critical)\n",
    "\n",
    "# Decision\n",
    "if abs(t_statistic) > t_critical:\n",
    "    print(\"Reject the null hypothesis (H0): The mean price significantly differs from $2200.\")\n",
    "else:\n",
    "    print(\"Failed to reject the null hypothesis (H0): No significant difference in the mean price from $2200.\")\n"
   ]
  },
  {
   "cell_type": "code",
   "execution_count": null,
   "id": "92647edd-68fa-4ea9-9aa6-2903d879426b",
   "metadata": {},
   "outputs": [],
   "source": [
    "#Distribution curve\n",
    "\n",
    "t_statistic = 0.09806368250690449\n",
    "t_critical = 2.0638985616280205\n",
    "dof = 24\n",
    "\n",
    "t_values = np.linspace(-4, 4, 500)\n",
    "pdf = t.pdf(t_values, dof)\n",
    "\n",
    "plt.figure(figsize=(10, 6))\n",
    "plt.plot(t_values, pdf, color='blue', label=\"T-Distribution (dof = 29)\")\n",
    "plt.fill_between(t_values, 0, pdf, where=(np.abs(t_values) > t_critical), color='red', alpha=0.5, label=\"Rejection Region (alpha = 0.05)\")\n",
    "plt.axvline(t_statistic, color='green', linestyle='--', linewidth=2, label=f\"T-statistic = {t_statistic:.2f}\")\n",
    "plt.axvline(-t_critical, color='orange', linestyle='--', linewidth=2, label=f\"T-critical = ±{t_critical:.2f}\")\n",
    "plt.axvline(t_critical, color='orange', linestyle='--', linewidth=2)\n",
    "plt.text(t_statistic + 0.1, 0.05, \"T-statistic\", fontsize=10, color='green')\n",
    "plt.title(\"T-Test Distribution Plot\", fontsize=14)\n",
    "plt.xlabel(\"T-Value\", fontsize=12)\n",
    "plt.ylabel(\"Probability Density\", fontsize=12)\n",
    "plt.legend()\n",
    "plt.grid(alpha=0.4)\n",
    "plt.show()\n"
   ]
  },
  {
   "cell_type": "raw",
   "id": "c7d86fe9-8fc7-45d3-bd72-8d35a085b312",
   "metadata": {},
   "source": [
    "Test Statistics:\n",
    "The analysis reveals that the mean price of premium computers does not differ significantly from $2200 at a 5% level of significance. This conclusion is based on the following results:\n",
    "\n",
    "Sample Mean: $2214.28\n",
    "Sample Standard Deviation: $728.10\n",
    "t-statistic: 0.098\n",
    "P-value: 0.92 (greater than 0.05)\n",
    "Z-critical Value: ±1.96"
   ]
  },
  {
   "cell_type": "raw",
   "id": "9f569f99-834d-4717-99f4-1956f95b5ce7",
   "metadata": {},
   "source": [
    "Business Conclusions:\n",
    "\n",
    "No Significant Price Difference:\n",
    "The hypothesis test reveals that the mean price of premium computers \"$2214\" does not significantly differ from the hypothesized mean price of $2200 at the 5% significance level.\n",
    "This suggests that the current pricing strategy for premium computers aligns well with the assumed market average or target price.\n",
    "\n",
    "Price Stability in the Premium Segment:\n",
    "The high p-value (0.9227) indicates strong evidence that the sample mean is close to $2200. This reflects price stability in the premium computer segment and consistency in pricing practices.\n",
    "\n",
    "Standard Deviation Highlights Variability:\n",
    "The sample standard deviation of $728.1 suggests that prices in the premium segment vary considerably. This could reflect diverse configurations or features offered at different price points within the premium category.\n",
    "\n",
    "Market Alignment:\n",
    "Since there is no significant difference in the average price, the premium computer pricing appears to align well with customer expectations or market trends.\n",
    "This indicates a competitive pricing strategy that does not deviate significantly from industry norms.\n",
    "\n",
    "Future Pricing Adjustments:\n",
    "If the business intends to increase prices beyond $2200, careful consideration is needed to justify the value addition, as the market seems sensitive to significant price changes.\n",
    "On the other hand, price reductions may not be necessary unless market competition intensifies or customer feedback demands more aggressive pricing."
   ]
  },
  {
   "cell_type": "markdown",
   "id": "8fd55336-caf0-4c1c-ab8e-90ab5491ce65",
   "metadata": {},
   "source": [
    "# ii) Analyze price disparity between premium and non-premium computers"
   ]
  },
  {
   "cell_type": "code",
   "execution_count": null,
   "id": "e3090d0d-c1a2-4344-b5aa-d75002e19d13",
   "metadata": {},
   "outputs": [],
   "source": [
    "Null and Alternative Hypotheses:\n",
    "H0: There is no significant disparity between the means of premium and non-premium computers\n",
    "Ha: There is significant disparity between the means of premium and non-premium computers"
   ]
  },
  {
   "cell_type": "code",
   "execution_count": null,
   "id": "08f40a62-a699-4f10-b0ec-f6532184c3a0",
   "metadata": {},
   "outputs": [],
   "source": [
    "H0:mu1-mu2=0\n",
    "H1:mu1-m2!=0"
   ]
  },
  {
   "cell_type": "code",
   "execution_count": null,
   "id": "7f7cee36-86cb-408c-b8ca-d53f1c61cd1b",
   "metadata": {},
   "outputs": [],
   "source": [
    "Establish the decision rule\n",
    "i) if p_value<alpha: rejection of null hypothesis(H0)\n",
    "ii) if -t-critical > t-statistic> +t-critical: Rejection of null hypothesis(H0)"
   ]
  },
  {
   "cell_type": "code",
   "execution_count": null,
   "id": "87b6977a-d2cb-4026-82d2-fd5ab5b34fa4",
   "metadata": {},
   "outputs": [],
   "source": [
    "from scipy.stats import t\n",
    "\n",
    "# Parameters\n",
    "alpha = 0.05  \n",
    "sample_size = 25  \n",
    "dof = 2 * sample_size - 2  # Degrees of freedom\n",
    "\n",
    "premium_data = df[df['premium'] == 'yes']\n",
    "non_premium_data = df[df['premium'] == 'no']\n",
    "\n",
    "# Randomly sampling 25 data points from each group\n",
    "premium_sample = premium_data['price'].sample(n=sample_size, random_state=1)\n",
    "non_premium_sample = non_premium_data['price'].sample(n=sample_size, random_state=1)\n",
    "\n",
    "# Calculating sample means and variances\n",
    "x1 = st.mean(premium_sample) # Mean of premium group\n",
    "x2 = st.mean(non_premium_sample)  # Mean of non-premium group\n",
    "v1 = (st.stdev(premium_sample))**2  # Variance of premium group\n",
    "v2 = (st.stdev(non_premium_sample))**2  # Variance of non-premium group\n",
    "n1 = n2 = sample_size  # Sample sizes\n",
    "\n",
    "# Noise and signal calculations\n",
    "\n",
    "pooled_std = math.sqrt(((v1 * (n1 - 1) + v2 * (n2 - 1))/dof) * (1 / n1 + 1 / n2))\n",
    "signal = abs(x1 - x2)\n",
    "t_statistic = signal / pooled_std\n",
    "\n",
    "# P-value for two-tailed test\n",
    "p_value = t.sf(abs(t_statistic), dof) * 2\n",
    "\n",
    "# T-critical value for two-tailed test\n",
    "t_critical = t.ppf(1 - alpha / 2, dof)\n",
    "\n",
    "print(\"Premium Mean (x1):\", x1)\n",
    "print(\"Non-Premium Mean (x2):\", x2)\n",
    "print(\"Premium Variance (v1):\", v1)\n",
    "print(\"Non-Premium Variance (v2):\", v2)\n",
    "print(\"T-statistic:\", t_statistic)\n",
    "print(\"P-value:\", p_value)\n",
    "print(\"T-critical Value:\", t_critical)\n",
    "\n",
    "# Decision\n",
    "if abs(t_statistic) > t_critical:\n",
    "    print(\"Reject the null hypothesis (H0): There is a significant difference in the mean prices of premium and non-premium computers.\")\n",
    "else:\n",
    "    print(\"Failed to reject the null hypothesis (H0): No significant difference in the mean prices of premium and non-premium computers.\")\n"
   ]
  },
  {
   "cell_type": "code",
   "execution_count": null,
   "id": "649d2ac7-6205-41da-9bae-6d1721f86458",
   "metadata": {},
   "outputs": [],
   "source": [
    "# Distribution plot\n",
    "\n",
    "t_statistic = 0.39686793308313423\n",
    "t_critical = 2.010634757624232\n",
    "dof = 24\n",
    "\n",
    "t_values = np.linspace(-4, 4, 500)\n",
    "pdf = t.pdf(t_values, dof)\n",
    "\n",
    "plt.figure(figsize=(10, 6))\n",
    "plt.plot(t_values, pdf, color='blue', label=\"T-Distribution (dof = 24)\")\n",
    "plt.fill_between(t_values, 0, pdf, where=(np.abs(t_values) > t_critical), color='red', alpha=0.5, label=\"Rejection Region (alpha = 0.05)\")\n",
    "plt.axvline(t_statistic, color='green', linestyle='--', linewidth=2, label=f\"T-statistic = {t_statistic:.2f}\")\n",
    "plt.axvline(-t_critical, color='orange', linestyle='--', linewidth=2, label=f\"T-critical = ±{t_critical:.2f}\")\n",
    "plt.axvline(t_critical, color='orange', linestyle='--', linewidth=2)\n",
    "plt.text(t_statistic + 0.1, 0.05, \"T-statistic\", fontsize=10, color='green')\n",
    "plt.title(\"T-Test Distribution Plot\", fontsize=14)\n",
    "plt.xlabel(\"T-Value\", fontsize=12)\n",
    "plt.ylabel(\"Probability Density\", fontsize=12)\n",
    "plt.legend()\n",
    "plt.grid(alpha=0.4)\n",
    "plt.show()\n"
   ]
  },
  {
   "cell_type": "raw",
   "id": "38e89d41-ee56-4119-9d7c-b7b27ac1b775",
   "metadata": {},
   "source": [
    "Business Conclusion:\n",
    "Based on the data provided, the t-statistic is 0.3969, which is less than the t-critical value of 2.0106. Additionally, the p-value is 0.6932, which is much greater than the typical significance level of 0.05.\n",
    "\n",
    "Since the p-value is high and the t-statistic is not in the critical region, we fail to reject the null hypothesis (H0). This means there is no significant difference between the mean prices of premium and non-premium computers.\n",
    "\n",
    "Business Conclusion: The analysis indicates that there is no statistically significant difference in the mean prices between premium and non-premium computers based on the sample data. Therefore, from a pricing perspective, businesses may not need to differentiate their pricing strategy between these two categories unless other factors (e.g., features, performance, or brand perception) are taken into account."
   ]
  },
  {
   "cell_type": "markdown",
   "id": "2b09b729-3b8e-4f9f-87de-765c49b5d393",
   "metadata": {},
   "source": [
    "# FINAL BUSINESS CONCLUSION:"
   ]
  },
  {
   "cell_type": "raw",
   "id": "4c9df3c2-dcf4-49f9-bc7d-9ea0f9857ad8",
   "metadata": {},
   "source": [
    "Final Business Conclusion:\n",
    "\n",
    "Based on the comprehensive analysis, the following conclusions and implications have been drawn:\n",
    "\n",
    "\"Advertising Budget for Premium Computers:\"\n",
    "There is no statistically significant increase in the mean advertising budget for 2023 compared to 2022 (z-statistic = -0.8663, p-value = 0.1932).\n",
    "The observed increase might be random rather than impactful. The company should reassess its advertising strategy, ensuring future investments are tied to measurable outcomes like sales growth or market share gains.\n",
    "\n",
    "\"Impact of CD Players on Pricing:\"\n",
    "Computers with CD players command a higher average price, reflecting their value as a premium feature.\n",
    "\n",
    "\"Strategic Actions:\"\n",
    "Market computers with CD players to niche audiences, highlighting their premium positioning.\n",
    "Evaluate the cost-effectiveness of maintaining CD players as demand shifts toward newer technologies.\n",
    "\n",
    "\"Pricing Strategy for Premium Computers:\"\n",
    "The mean price of premium computers aligns with the market average of $2200, as there is no significant deviation (t-statistic = 0.3969, p-value = 0.6932).Price stability suggests the current pricing strategy is competitive and meets customer expectations.\n",
    "\n",
    "\"Strategic Adjustments:\"\n",
    "Future price increases must be justified by clear value additions, while reductions are unnecessary unless market competition intensifies.\n",
    "\n",
    "\"Standard Deviation and Price Variability:\"\n",
    "A high price variability in the premium segment reflects diverse configurations and features.\n",
    "\n",
    "\"Profit Optimization:\"\n",
    "Strategically price products to align with customer willingness to pay while maximizing profit margins.\n",
    "Consider bundling accessories or software with high-margin models to enhance perceived value.\n",
    "\n",
    "\"Overall Recommendation:\"\n",
    "The business should refine its advertising strategy, leverage the premium appeal of CD players strategically, and maintain the stable pricing approach for premium computers. Focus on aligning features and pricing with market trends to optimize profitability and customer satisfaction."
   ]
  }
 ],
 "metadata": {
  "kernelspec": {
   "display_name": "Python 3 (ipykernel)",
   "language": "python",
   "name": "python3"
  },
  "language_info": {
   "codemirror_mode": {
    "name": "ipython",
    "version": 3
   },
   "file_extension": ".py",
   "mimetype": "text/x-python",
   "name": "python",
   "nbconvert_exporter": "python",
   "pygments_lexer": "ipython3",
   "version": "3.12.4"
  }
 },
 "nbformat": 4,
 "nbformat_minor": 5
}
