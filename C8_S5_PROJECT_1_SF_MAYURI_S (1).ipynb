{
 "cells": [
  {
   "cell_type": "markdown",
   "id": "971648a5-a6d0-4df0-9117-9a2d1c31367a",
   "metadata": {},
   "source": [
    "# \"REFINING COMPUTER SALES STRATEGY THROUGH STATISTICAL ANALYSIS\""
   ]
  },
  {
   "cell_type": "code",
   "execution_count": 1,
   "id": "d1b32f1d-02ae-434b-bbc8-ffe6193fa939",
   "metadata": {},
   "outputs": [
    {
     "data": {
      "text/html": [
       "<div>\n",
       "<style scoped>\n",
       "    .dataframe tbody tr th:only-of-type {\n",
       "        vertical-align: middle;\n",
       "    }\n",
       "\n",
       "    .dataframe tbody tr th {\n",
       "        vertical-align: top;\n",
       "    }\n",
       "\n",
       "    .dataframe thead th {\n",
       "        text-align: right;\n",
       "    }\n",
       "</style>\n",
       "<table border=\"1\" class=\"dataframe\">\n",
       "  <thead>\n",
       "    <tr style=\"text-align: right;\">\n",
       "      <th></th>\n",
       "      <th>index</th>\n",
       "      <th>price</th>\n",
       "      <th>speed</th>\n",
       "      <th>hd</th>\n",
       "      <th>ram</th>\n",
       "      <th>screen</th>\n",
       "      <th>cd</th>\n",
       "      <th>multi</th>\n",
       "      <th>premium</th>\n",
       "      <th>ads_2022</th>\n",
       "      <th>ads_2023</th>\n",
       "      <th>trend</th>\n",
       "    </tr>\n",
       "  </thead>\n",
       "  <tbody>\n",
       "    <tr>\n",
       "      <th>0</th>\n",
       "      <td>1</td>\n",
       "      <td>1499</td>\n",
       "      <td>25</td>\n",
       "      <td>80</td>\n",
       "      <td>4</td>\n",
       "      <td>14</td>\n",
       "      <td>no</td>\n",
       "      <td>no</td>\n",
       "      <td>yes</td>\n",
       "      <td>94</td>\n",
       "      <td>94</td>\n",
       "      <td>1</td>\n",
       "    </tr>\n",
       "    <tr>\n",
       "      <th>1</th>\n",
       "      <td>2</td>\n",
       "      <td>1795</td>\n",
       "      <td>33</td>\n",
       "      <td>85</td>\n",
       "      <td>2</td>\n",
       "      <td>14</td>\n",
       "      <td>no</td>\n",
       "      <td>no</td>\n",
       "      <td>yes</td>\n",
       "      <td>94</td>\n",
       "      <td>94</td>\n",
       "      <td>1</td>\n",
       "    </tr>\n",
       "    <tr>\n",
       "      <th>2</th>\n",
       "      <td>3</td>\n",
       "      <td>1595</td>\n",
       "      <td>25</td>\n",
       "      <td>170</td>\n",
       "      <td>4</td>\n",
       "      <td>15</td>\n",
       "      <td>no</td>\n",
       "      <td>no</td>\n",
       "      <td>yes</td>\n",
       "      <td>94</td>\n",
       "      <td>94</td>\n",
       "      <td>1</td>\n",
       "    </tr>\n",
       "    <tr>\n",
       "      <th>3</th>\n",
       "      <td>4</td>\n",
       "      <td>1849</td>\n",
       "      <td>25</td>\n",
       "      <td>170</td>\n",
       "      <td>8</td>\n",
       "      <td>14</td>\n",
       "      <td>no</td>\n",
       "      <td>no</td>\n",
       "      <td>no</td>\n",
       "      <td>94</td>\n",
       "      <td>94</td>\n",
       "      <td>1</td>\n",
       "    </tr>\n",
       "    <tr>\n",
       "      <th>4</th>\n",
       "      <td>5</td>\n",
       "      <td>3295</td>\n",
       "      <td>33</td>\n",
       "      <td>340</td>\n",
       "      <td>16</td>\n",
       "      <td>14</td>\n",
       "      <td>no</td>\n",
       "      <td>no</td>\n",
       "      <td>yes</td>\n",
       "      <td>94</td>\n",
       "      <td>104</td>\n",
       "      <td>1</td>\n",
       "    </tr>\n",
       "    <tr>\n",
       "      <th>...</th>\n",
       "      <td>...</td>\n",
       "      <td>...</td>\n",
       "      <td>...</td>\n",
       "      <td>...</td>\n",
       "      <td>...</td>\n",
       "      <td>...</td>\n",
       "      <td>...</td>\n",
       "      <td>...</td>\n",
       "      <td>...</td>\n",
       "      <td>...</td>\n",
       "      <td>...</td>\n",
       "      <td>...</td>\n",
       "    </tr>\n",
       "    <tr>\n",
       "      <th>6254</th>\n",
       "      <td>6255</td>\n",
       "      <td>1690</td>\n",
       "      <td>100</td>\n",
       "      <td>528</td>\n",
       "      <td>8</td>\n",
       "      <td>15</td>\n",
       "      <td>no</td>\n",
       "      <td>no</td>\n",
       "      <td>yes</td>\n",
       "      <td>39</td>\n",
       "      <td>70</td>\n",
       "      <td>35</td>\n",
       "    </tr>\n",
       "    <tr>\n",
       "      <th>6255</th>\n",
       "      <td>6256</td>\n",
       "      <td>2223</td>\n",
       "      <td>66</td>\n",
       "      <td>850</td>\n",
       "      <td>16</td>\n",
       "      <td>15</td>\n",
       "      <td>yes</td>\n",
       "      <td>yes</td>\n",
       "      <td>yes</td>\n",
       "      <td>39</td>\n",
       "      <td>70</td>\n",
       "      <td>35</td>\n",
       "    </tr>\n",
       "    <tr>\n",
       "      <th>6256</th>\n",
       "      <td>6257</td>\n",
       "      <td>2654</td>\n",
       "      <td>100</td>\n",
       "      <td>1200</td>\n",
       "      <td>24</td>\n",
       "      <td>15</td>\n",
       "      <td>yes</td>\n",
       "      <td>no</td>\n",
       "      <td>yes</td>\n",
       "      <td>39</td>\n",
       "      <td>70</td>\n",
       "      <td>35</td>\n",
       "    </tr>\n",
       "    <tr>\n",
       "      <th>6257</th>\n",
       "      <td>6258</td>\n",
       "      <td>2195</td>\n",
       "      <td>100</td>\n",
       "      <td>850</td>\n",
       "      <td>16</td>\n",
       "      <td>15</td>\n",
       "      <td>yes</td>\n",
       "      <td>no</td>\n",
       "      <td>yes</td>\n",
       "      <td>39</td>\n",
       "      <td>70</td>\n",
       "      <td>35</td>\n",
       "    </tr>\n",
       "    <tr>\n",
       "      <th>6258</th>\n",
       "      <td>6259</td>\n",
       "      <td>2490</td>\n",
       "      <td>100</td>\n",
       "      <td>850</td>\n",
       "      <td>16</td>\n",
       "      <td>17</td>\n",
       "      <td>yes</td>\n",
       "      <td>no</td>\n",
       "      <td>yes</td>\n",
       "      <td>39</td>\n",
       "      <td>70</td>\n",
       "      <td>35</td>\n",
       "    </tr>\n",
       "  </tbody>\n",
       "</table>\n",
       "<p>6259 rows × 12 columns</p>\n",
       "</div>"
      ],
      "text/plain": [
       "      index  price  speed    hd  ram  screen   cd multi premium  ads_2022  \\\n",
       "0         1   1499     25    80    4      14   no    no     yes        94   \n",
       "1         2   1795     33    85    2      14   no    no     yes        94   \n",
       "2         3   1595     25   170    4      15   no    no     yes        94   \n",
       "3         4   1849     25   170    8      14   no    no      no        94   \n",
       "4         5   3295     33   340   16      14   no    no     yes        94   \n",
       "...     ...    ...    ...   ...  ...     ...  ...   ...     ...       ...   \n",
       "6254   6255   1690    100   528    8      15   no    no     yes        39   \n",
       "6255   6256   2223     66   850   16      15  yes   yes     yes        39   \n",
       "6256   6257   2654    100  1200   24      15  yes    no     yes        39   \n",
       "6257   6258   2195    100   850   16      15  yes    no     yes        39   \n",
       "6258   6259   2490    100   850   16      17  yes    no     yes        39   \n",
       "\n",
       "      ads_2023  trend  \n",
       "0           94      1  \n",
       "1           94      1  \n",
       "2           94      1  \n",
       "3           94      1  \n",
       "4          104      1  \n",
       "...        ...    ...  \n",
       "6254        70     35  \n",
       "6255        70     35  \n",
       "6256        70     35  \n",
       "6257        70     35  \n",
       "6258        70     35  \n",
       "\n",
       "[6259 rows x 12 columns]"
      ]
     },
     "execution_count": 1,
     "metadata": {},
     "output_type": "execute_result"
    }
   ],
   "source": [
    "import pandas as pd\n",
    "\n",
    "df=pd.read_csv(\"DS1_C8_Computers_Data_Project.csv\")\n",
    "df"
   ]
  },
  {
   "cell_type": "code",
   "execution_count": 2,
   "id": "2417cf8e-808f-47be-9697-ba1f9c02c4cd",
   "metadata": {},
   "outputs": [
    {
     "data": {
      "text/plain": [
       "(6259, 12)"
      ]
     },
     "execution_count": 2,
     "metadata": {},
     "output_type": "execute_result"
    }
   ],
   "source": [
    "df.shape"
   ]
  },
  {
   "cell_type": "code",
   "execution_count": 3,
   "id": "0c6cb0ec-e198-4b83-ab61-fc5caeb32539",
   "metadata": {},
   "outputs": [
    {
     "data": {
      "text/plain": [
       "Index(['index', 'price', 'speed', 'hd', 'ram', 'screen', 'cd', 'multi',\n",
       "       'premium', 'ads_2022', 'ads_2023', 'trend'],\n",
       "      dtype='object')"
      ]
     },
     "execution_count": 3,
     "metadata": {},
     "output_type": "execute_result"
    }
   ],
   "source": [
    "df.columns"
   ]
  },
  {
   "cell_type": "code",
   "execution_count": 4,
   "id": "feaa711e-6762-4dc0-8509-dbc8ff086291",
   "metadata": {},
   "outputs": [
    {
     "name": "stdout",
     "output_type": "stream",
     "text": [
      "<class 'pandas.core.frame.DataFrame'>\n",
      "RangeIndex: 6259 entries, 0 to 6258\n",
      "Data columns (total 12 columns):\n",
      " #   Column    Non-Null Count  Dtype \n",
      "---  ------    --------------  ----- \n",
      " 0   index     6259 non-null   int64 \n",
      " 1   price     6259 non-null   int64 \n",
      " 2   speed     6259 non-null   int64 \n",
      " 3   hd        6259 non-null   int64 \n",
      " 4   ram       6259 non-null   int64 \n",
      " 5   screen    6259 non-null   int64 \n",
      " 6   cd        6259 non-null   object\n",
      " 7   multi     6259 non-null   object\n",
      " 8   premium   6259 non-null   object\n",
      " 9   ads_2022  6259 non-null   int64 \n",
      " 10  ads_2023  6259 non-null   int64 \n",
      " 11  trend     6259 non-null   int64 \n",
      "dtypes: int64(9), object(3)\n",
      "memory usage: 586.9+ KB\n"
     ]
    }
   ],
   "source": [
    "df.info()"
   ]
  },
  {
   "cell_type": "code",
   "execution_count": 5,
   "id": "75c5dbc7-5ae7-491a-b117-ef1fcb843623",
   "metadata": {},
   "outputs": [
    {
     "data": {
      "text/plain": [
       "index       0\n",
       "price       0\n",
       "speed       0\n",
       "hd          0\n",
       "ram         0\n",
       "screen      0\n",
       "cd          0\n",
       "multi       0\n",
       "premium     0\n",
       "ads_2022    0\n",
       "ads_2023    0\n",
       "trend       0\n",
       "dtype: int64"
      ]
     },
     "execution_count": 5,
     "metadata": {},
     "output_type": "execute_result"
    }
   ],
   "source": [
    "df.isnull().sum()"
   ]
  },
  {
   "cell_type": "code",
   "execution_count": 6,
   "id": "34df3d27-e8bd-41cd-91f6-8405db5b957c",
   "metadata": {},
   "outputs": [
    {
     "data": {
      "text/html": [
       "<div>\n",
       "<style scoped>\n",
       "    .dataframe tbody tr th:only-of-type {\n",
       "        vertical-align: middle;\n",
       "    }\n",
       "\n",
       "    .dataframe tbody tr th {\n",
       "        vertical-align: top;\n",
       "    }\n",
       "\n",
       "    .dataframe thead th {\n",
       "        text-align: right;\n",
       "    }\n",
       "</style>\n",
       "<table border=\"1\" class=\"dataframe\">\n",
       "  <thead>\n",
       "    <tr style=\"text-align: right;\">\n",
       "      <th></th>\n",
       "      <th>index</th>\n",
       "      <th>price</th>\n",
       "      <th>speed</th>\n",
       "      <th>hd</th>\n",
       "      <th>ram</th>\n",
       "      <th>screen</th>\n",
       "      <th>ads_2022</th>\n",
       "      <th>ads_2023</th>\n",
       "      <th>trend</th>\n",
       "    </tr>\n",
       "  </thead>\n",
       "  <tbody>\n",
       "    <tr>\n",
       "      <th>0</th>\n",
       "      <td>1</td>\n",
       "      <td>1499</td>\n",
       "      <td>25</td>\n",
       "      <td>80</td>\n",
       "      <td>4</td>\n",
       "      <td>14</td>\n",
       "      <td>94</td>\n",
       "      <td>94</td>\n",
       "      <td>1</td>\n",
       "    </tr>\n",
       "    <tr>\n",
       "      <th>1</th>\n",
       "      <td>2</td>\n",
       "      <td>1795</td>\n",
       "      <td>33</td>\n",
       "      <td>85</td>\n",
       "      <td>2</td>\n",
       "      <td>14</td>\n",
       "      <td>94</td>\n",
       "      <td>94</td>\n",
       "      <td>1</td>\n",
       "    </tr>\n",
       "    <tr>\n",
       "      <th>2</th>\n",
       "      <td>3</td>\n",
       "      <td>1595</td>\n",
       "      <td>25</td>\n",
       "      <td>170</td>\n",
       "      <td>4</td>\n",
       "      <td>15</td>\n",
       "      <td>94</td>\n",
       "      <td>94</td>\n",
       "      <td>1</td>\n",
       "    </tr>\n",
       "    <tr>\n",
       "      <th>3</th>\n",
       "      <td>4</td>\n",
       "      <td>1849</td>\n",
       "      <td>25</td>\n",
       "      <td>170</td>\n",
       "      <td>8</td>\n",
       "      <td>14</td>\n",
       "      <td>94</td>\n",
       "      <td>94</td>\n",
       "      <td>1</td>\n",
       "    </tr>\n",
       "    <tr>\n",
       "      <th>4</th>\n",
       "      <td>5</td>\n",
       "      <td>3295</td>\n",
       "      <td>33</td>\n",
       "      <td>340</td>\n",
       "      <td>16</td>\n",
       "      <td>14</td>\n",
       "      <td>94</td>\n",
       "      <td>104</td>\n",
       "      <td>1</td>\n",
       "    </tr>\n",
       "    <tr>\n",
       "      <th>...</th>\n",
       "      <td>...</td>\n",
       "      <td>...</td>\n",
       "      <td>...</td>\n",
       "      <td>...</td>\n",
       "      <td>...</td>\n",
       "      <td>...</td>\n",
       "      <td>...</td>\n",
       "      <td>...</td>\n",
       "      <td>...</td>\n",
       "    </tr>\n",
       "    <tr>\n",
       "      <th>6254</th>\n",
       "      <td>6255</td>\n",
       "      <td>1690</td>\n",
       "      <td>100</td>\n",
       "      <td>528</td>\n",
       "      <td>8</td>\n",
       "      <td>15</td>\n",
       "      <td>39</td>\n",
       "      <td>70</td>\n",
       "      <td>35</td>\n",
       "    </tr>\n",
       "    <tr>\n",
       "      <th>6255</th>\n",
       "      <td>6256</td>\n",
       "      <td>2223</td>\n",
       "      <td>66</td>\n",
       "      <td>850</td>\n",
       "      <td>16</td>\n",
       "      <td>15</td>\n",
       "      <td>39</td>\n",
       "      <td>70</td>\n",
       "      <td>35</td>\n",
       "    </tr>\n",
       "    <tr>\n",
       "      <th>6256</th>\n",
       "      <td>6257</td>\n",
       "      <td>2654</td>\n",
       "      <td>100</td>\n",
       "      <td>1200</td>\n",
       "      <td>24</td>\n",
       "      <td>15</td>\n",
       "      <td>39</td>\n",
       "      <td>70</td>\n",
       "      <td>35</td>\n",
       "    </tr>\n",
       "    <tr>\n",
       "      <th>6257</th>\n",
       "      <td>6258</td>\n",
       "      <td>2195</td>\n",
       "      <td>100</td>\n",
       "      <td>850</td>\n",
       "      <td>16</td>\n",
       "      <td>15</td>\n",
       "      <td>39</td>\n",
       "      <td>70</td>\n",
       "      <td>35</td>\n",
       "    </tr>\n",
       "    <tr>\n",
       "      <th>6258</th>\n",
       "      <td>6259</td>\n",
       "      <td>2490</td>\n",
       "      <td>100</td>\n",
       "      <td>850</td>\n",
       "      <td>16</td>\n",
       "      <td>17</td>\n",
       "      <td>39</td>\n",
       "      <td>70</td>\n",
       "      <td>35</td>\n",
       "    </tr>\n",
       "  </tbody>\n",
       "</table>\n",
       "<p>6259 rows × 9 columns</p>\n",
       "</div>"
      ],
      "text/plain": [
       "      index  price  speed    hd  ram  screen  ads_2022  ads_2023  trend\n",
       "0         1   1499     25    80    4      14        94        94      1\n",
       "1         2   1795     33    85    2      14        94        94      1\n",
       "2         3   1595     25   170    4      15        94        94      1\n",
       "3         4   1849     25   170    8      14        94        94      1\n",
       "4         5   3295     33   340   16      14        94       104      1\n",
       "...     ...    ...    ...   ...  ...     ...       ...       ...    ...\n",
       "6254   6255   1690    100   528    8      15        39        70     35\n",
       "6255   6256   2223     66   850   16      15        39        70     35\n",
       "6256   6257   2654    100  1200   24      15        39        70     35\n",
       "6257   6258   2195    100   850   16      15        39        70     35\n",
       "6258   6259   2490    100   850   16      17        39        70     35\n",
       "\n",
       "[6259 rows x 9 columns]"
      ]
     },
     "execution_count": 6,
     "metadata": {},
     "output_type": "execute_result"
    }
   ],
   "source": [
    "NC= df.select_dtypes(exclude=\"object\")\n",
    "NC"
   ]
  },
  {
   "cell_type": "code",
   "execution_count": 7,
   "id": "14ab1a6b-1642-4473-9eb2-a084f928ef83",
   "metadata": {},
   "outputs": [
    {
     "data": {
      "text/html": [
       "<div>\n",
       "<style scoped>\n",
       "    .dataframe tbody tr th:only-of-type {\n",
       "        vertical-align: middle;\n",
       "    }\n",
       "\n",
       "    .dataframe tbody tr th {\n",
       "        vertical-align: top;\n",
       "    }\n",
       "\n",
       "    .dataframe thead th {\n",
       "        text-align: right;\n",
       "    }\n",
       "</style>\n",
       "<table border=\"1\" class=\"dataframe\">\n",
       "  <thead>\n",
       "    <tr style=\"text-align: right;\">\n",
       "      <th></th>\n",
       "      <th>cd</th>\n",
       "      <th>multi</th>\n",
       "      <th>premium</th>\n",
       "    </tr>\n",
       "  </thead>\n",
       "  <tbody>\n",
       "    <tr>\n",
       "      <th>0</th>\n",
       "      <td>no</td>\n",
       "      <td>no</td>\n",
       "      <td>yes</td>\n",
       "    </tr>\n",
       "    <tr>\n",
       "      <th>1</th>\n",
       "      <td>no</td>\n",
       "      <td>no</td>\n",
       "      <td>yes</td>\n",
       "    </tr>\n",
       "    <tr>\n",
       "      <th>2</th>\n",
       "      <td>no</td>\n",
       "      <td>no</td>\n",
       "      <td>yes</td>\n",
       "    </tr>\n",
       "    <tr>\n",
       "      <th>3</th>\n",
       "      <td>no</td>\n",
       "      <td>no</td>\n",
       "      <td>no</td>\n",
       "    </tr>\n",
       "    <tr>\n",
       "      <th>4</th>\n",
       "      <td>no</td>\n",
       "      <td>no</td>\n",
       "      <td>yes</td>\n",
       "    </tr>\n",
       "    <tr>\n",
       "      <th>...</th>\n",
       "      <td>...</td>\n",
       "      <td>...</td>\n",
       "      <td>...</td>\n",
       "    </tr>\n",
       "    <tr>\n",
       "      <th>6254</th>\n",
       "      <td>no</td>\n",
       "      <td>no</td>\n",
       "      <td>yes</td>\n",
       "    </tr>\n",
       "    <tr>\n",
       "      <th>6255</th>\n",
       "      <td>yes</td>\n",
       "      <td>yes</td>\n",
       "      <td>yes</td>\n",
       "    </tr>\n",
       "    <tr>\n",
       "      <th>6256</th>\n",
       "      <td>yes</td>\n",
       "      <td>no</td>\n",
       "      <td>yes</td>\n",
       "    </tr>\n",
       "    <tr>\n",
       "      <th>6257</th>\n",
       "      <td>yes</td>\n",
       "      <td>no</td>\n",
       "      <td>yes</td>\n",
       "    </tr>\n",
       "    <tr>\n",
       "      <th>6258</th>\n",
       "      <td>yes</td>\n",
       "      <td>no</td>\n",
       "      <td>yes</td>\n",
       "    </tr>\n",
       "  </tbody>\n",
       "</table>\n",
       "<p>6259 rows × 3 columns</p>\n",
       "</div>"
      ],
      "text/plain": [
       "       cd multi premium\n",
       "0      no    no     yes\n",
       "1      no    no     yes\n",
       "2      no    no     yes\n",
       "3      no    no      no\n",
       "4      no    no     yes\n",
       "...   ...   ...     ...\n",
       "6254   no    no     yes\n",
       "6255  yes   yes     yes\n",
       "6256  yes    no     yes\n",
       "6257  yes    no     yes\n",
       "6258  yes    no     yes\n",
       "\n",
       "[6259 rows x 3 columns]"
      ]
     },
     "execution_count": 7,
     "metadata": {},
     "output_type": "execute_result"
    }
   ],
   "source": [
    "CC= df.select_dtypes(include=\"object\")\n",
    "CC"
   ]
  },
  {
   "cell_type": "code",
   "execution_count": 8,
   "id": "d848384f-b0d2-4381-a3bb-e8f7e9052d9b",
   "metadata": {},
   "outputs": [
    {
     "data": {
      "text/plain": [
       "['index',\n",
       " 'price',\n",
       " 'speed',\n",
       " 'hd',\n",
       " 'ram',\n",
       " 'screen',\n",
       " 'ads_2022',\n",
       " 'ads_2023',\n",
       " 'trend']"
      ]
     },
     "execution_count": 8,
     "metadata": {},
     "output_type": "execute_result"
    }
   ],
   "source": [
    "n_list=list(NC.columns)\n",
    "n_list"
   ]
  },
  {
   "cell_type": "code",
   "execution_count": 9,
   "id": "86794c83-b9c3-48a6-b315-ccfdbf6a0ef2",
   "metadata": {},
   "outputs": [
    {
     "data": {
      "text/plain": [
       "['cd', 'multi', 'premium']"
      ]
     },
     "execution_count": 9,
     "metadata": {},
     "output_type": "execute_result"
    }
   ],
   "source": [
    "c_list=list(CC.columns)\n",
    "c_list"
   ]
  },
  {
   "cell_type": "code",
   "execution_count": 10,
   "id": "ddbca156-ef61-4598-bf90-e09be65773b9",
   "metadata": {},
   "outputs": [
    {
     "name": "stdout",
     "output_type": "stream",
     "text": [
      "categorical    numerical\n",
      "-------------  -----------\n",
      "cd             index\n",
      "multi          price\n",
      "premium        speed\n",
      "               hd\n",
      "               ram\n",
      "               screen\n",
      "               ads_2022\n",
      "               ads_2023\n",
      "               trend\n"
     ]
    }
   ],
   "source": [
    "from tabulate import tabulate\n",
    "table=[n_list,c_list]\n",
    "print(tabulate({\"categorical\":c_list,\"numerical\":n_list},headers=[\"categorical\",\"numerical\"]))"
   ]
  },
  {
   "cell_type": "code",
   "execution_count": 11,
   "id": "c899e379-df75-4e65-9b23-afa16cc5c13b",
   "metadata": {},
   "outputs": [],
   "source": [
    "def info_of_cat(col):\n",
    "    print(f\"unique values in {col} are: {df[col].nunique()}\") #unique will return the unique values of each column \n",
    "    print(f\"mode values in{col} are : {df[col].mode()[0]}\")#it will return the mode of a column\n",
    "    print(f\"number of missing values in{col} are : {df[col].isnull().sum()}\")#it will return the count of missing values"
   ]
  },
  {
   "cell_type": "markdown",
   "id": "6ddea28a-77a5-47de-9a2d-b29b9730889d",
   "metadata": {},
   "source": [
    "# BUSINESS OBJECTIVE 1: ENHANCE PRODUCT STRATEGY AND SALES PERFORMANCE THROUGH SPECIFICATION-BASED ANALYSIS"
   ]
  },
  {
   "cell_type": "markdown",
   "id": "409e8d23-bc5c-4c65-b9d5-bfd0c77e0cf4",
   "metadata": {},
   "source": [
    "# TASK-1: "
   ]
  },
  {
   "cell_type": "markdown",
   "id": "58f0486e-1976-4d0e-b93e-7eed04608263",
   "metadata": {},
   "source": [
    "# a) ANALYZE PURCHASE LIKELIHOOD BASED ON SPECIFICATIONS"
   ]
  },
  {
   "cell_type": "code",
   "execution_count": 15,
   "id": "b7cb73db-ca9e-414f-945c-d08434e2219c",
   "metadata": {},
   "outputs": [
    {
     "name": "stdout",
     "output_type": "stream",
     "text": [
      "Number of matching computers: 1003\n",
      "Total number of computers: 6259\n",
      "Probability: 16.02%\n"
     ]
    }
   ],
   "source": [
    "#Probability of a customer purchasing a computer with atleast 8 GB RAM, computer screen size of 14 inches and a processor speed exceeding 33 MHz\n",
    "\n",
    "specifications= (df['ram'] >= 8) & (df['screen'] == 14) & (df['speed'] > 33)\n",
    "matching_count = df[specifications].shape[0]\n",
    "total_count = df.shape[0]\n",
    "probability = (matching_count / total_count)*100\n",
    "print(f\"Number of matching computers: {matching_count}\")\n",
    "print(f\"Total number of computers: {total_count}\")\n",
    "print(f\"Probability: {probability:.2f}%\")"
   ]
  },
  {
   "cell_type": "markdown",
   "id": "5fa0d58a-a993-49e9-8271-92be7af41b7c",
   "metadata": {},
   "source": [
    "# b) PROBABILITY OF SELLING PREMIUM COMPUTERS"
   ]
  },
  {
   "cell_type": "code",
   "execution_count": 17,
   "id": "09dd2448-4297-4584-acf5-dc899f7caf84",
   "metadata": {},
   "outputs": [
    {
     "name": "stdout",
     "output_type": "stream",
     "text": [
      "Number of premium computers: 5647\n",
      "Total number of computers: 6259\n",
      "Probability of selling a premium computer: 90.22%\n"
     ]
    }
   ],
   "source": [
    "#i) Probability of selling premium computers\n",
    "\n",
    "premium= df['premium'] == 'yes'\n",
    "premium_count = df[premium].shape[0]\n",
    "total_count = df.shape[0]\n",
    "premium_probability = (premium_count / total_count) * 100\n",
    "\n",
    "print(f\"Number of premium computers: {premium_count}\")\n",
    "print(f\"Total number of computers: {total_count}\")\n",
    "print(f\"Probability of selling a premium computer: {premium_probability:.2f}%\")"
   ]
  },
  {
   "cell_type": "code",
   "execution_count": 18,
   "id": "3939aa12-4c08-4605-b770-165a25a6132d",
   "metadata": {},
   "outputs": [
    {
     "name": "stdout",
     "output_type": "stream",
     "text": [
      "Probability that a computer has a CD player given that it is premium: 50.01%\n"
     ]
    }
   ],
   "source": [
    "#ii)The probability of having a CD player given it is premium\n",
    "\n",
    "cd_and_premium = len(df[(df['cd'] == 'yes') & (df['premium'] == 'yes')]) / len(df)\n",
    "# Calculating the probability of being premium\n",
    "premium = len(df[df['premium'] == 'yes']) / len(df)\n",
    "# The conditional probability of having a cd player given it is premium \n",
    "probability = (cd_and_premium / premium)*100\n",
    "\n",
    "print(f\"Probability that a computer has a CD player given that it is premium: {probability:.2f}%\")"
   ]
  },
  {
   "cell_type": "markdown",
   "id": "78047e5e-2984-41cc-933b-0d27eccd2788",
   "metadata": {},
   "source": [
    "# c) PREDICTING THE PROBABILITY OF CERTAIN SPECIFICATIONS"
   ]
  },
  {
   "cell_type": "code",
   "execution_count": 20,
   "id": "b7f69b9d-d69a-4d5d-bea1-cb39e3cdafa6",
   "metadata": {},
   "outputs": [
    {
     "name": "stdout",
     "output_type": "stream",
     "text": [
      "Probability that a computer has a size greater than 15 inches given that it is premium: 9.39%\n"
     ]
    }
   ],
   "source": [
    "#i) The probability of having a computer size greater than 15 inches and being premium\n",
    "\n",
    "size_and_premium= len(df[(df[\"screen\"]>15) & (df[\"premium\"]==\"yes\")])/len(df)\n",
    "premium= len(df[df['premium'] == 'yes']) / len(df)\n",
    "probability=(size_and_premium/premium)*100\n",
    "\n",
    "print(f\"Probability that a computer has a size greater than 15 inches given that it is premium: {probability:.2f}%\")"
   ]
  },
  {
   "cell_type": "code",
   "execution_count": 21,
   "id": "9f885f01-21c0-4ea4-a81f-ae2143d64b27",
   "metadata": {},
   "outputs": [
    {
     "name": "stdout",
     "output_type": "stream",
     "text": [
      "Probability that a computer has a screen size <= 14 inches given that it is not premium: 69.12%\n"
     ]
    }
   ],
   "source": [
    "#ii)Probability that a computer has a screen size <= 14 inches given that it is not premium\n",
    "\n",
    "screen_less_14_and_not_premium = len(df[(df['screen'] <= 14) & (df['premium'] == 'no')]) / len(df)\n",
    "#The probability of not being premium\n",
    "not_premium = len(df[df['premium'] == 'no']) / len(df)\n",
    "#The conditional probability that it has a screen size less than or equal to 14 inches given it is not premium\n",
    "probability = (screen_less_14_and_not_premium / not_premium)*100\n",
    "\n",
    "print(f\"Probability that a computer has a screen size <= 14 inches given that it is not premium: {probability:.2f}%\")"
   ]
  },
  {
   "cell_type": "markdown",
   "id": "e7c58728-617c-4104-9e91-cb08c11506f6",
   "metadata": {},
   "source": [
    "# d) LIKELIHOOD OF COMPUTERS HAVING BOTH CD PLAYER AND A MULTIMEDIA KIT"
   ]
  },
  {
   "cell_type": "code",
   "execution_count": 23,
   "id": "289b6c6e-3111-4425-a595-0c23352bf729",
   "metadata": {},
   "outputs": [
    {
     "name": "stdout",
     "output_type": "stream",
     "text": [
      "Joint probability of having both a CD player and a multimedia kit: 13.95%\n"
     ]
    }
   ],
   "source": [
    "#i)The joint probability of computers having both a cd player and a multimedia kit\n",
    "\n",
    "cd_and_multi = len(df[(df['cd'] == 'yes') & (df['multi'] == 'yes')]) / len(df)\n",
    "cd_and_multi=(cd_and_multi)*100\n",
    "print(f\"Joint probability of having both a CD player and a multimedia kit: {cd_and_multi:.2f}%\")"
   ]
  },
  {
   "cell_type": "code",
   "execution_count": 24,
   "id": "bff7ce88-cd75-4059-9945-cc1447861bca",
   "metadata": {},
   "outputs": [
    {
     "name": "stdout",
     "output_type": "stream",
     "text": [
      "Probability that a computer has a multimedia kit given that it has a CD player: 30.02%\n"
     ]
    }
   ],
   "source": [
    "#ii)Probability that a computer has a multimedia kit given that it has a CD player\n",
    "\n",
    "cd_and_multi = len(df[(df['cd'] == 'yes') & (df['multi'] == 'yes')]) / len(df)\n",
    "cd_player = len(df[df['cd'] == 'yes']) / len(df)\n",
    "probability = (cd_and_multi / cd_player)*100\n",
    "\n",
    "print(f\"Probability that a computer has a multimedia kit given that it has a CD player: {probability:.2f}%\")"
   ]
  },
  {
   "cell_type": "markdown",
   "id": "f89f6653-efa5-4b26-9a12-c6221b91504a",
   "metadata": {},
   "source": [
    "# BUSINESS OBJECTIVE 2: ASSESSING PRICE DISPARITIES BETWEEN PREMIUM AND NON-PREMIUM COMPUTERS AS COMPARED TO PRICES OF BOTH CATEGORIES TOGETHER"
   ]
  },
  {
   "cell_type": "markdown",
   "id": "5d1cecce-72d3-4a13-a1f2-16e000ed15f4",
   "metadata": {},
   "source": [
    "# TASK-2: "
   ]
  },
  {
   "cell_type": "code",
   "execution_count": 27,
   "id": "614d89f9-fd5e-4183-bc28-616cee948d84",
   "metadata": {},
   "outputs": [],
   "source": [
    "import statistics as st\n",
    "import math\n",
    "from scipy.stats import norm"
   ]
  },
  {
   "cell_type": "markdown",
   "id": "1f5d165e-3564-460f-aac0-9bbe47732553",
   "metadata": {},
   "source": [
    "# a) Average size of computers in the entire population"
   ]
  },
  {
   "cell_type": "code",
   "execution_count": 29,
   "id": "19ed4391-e96c-4df5-87b0-fe9e64c49893",
   "metadata": {},
   "outputs": [
    {
     "name": "stdout",
     "output_type": "stream",
     "text": [
      "Average size of computers in the entire population: 14.61 inches\n"
     ]
    }
   ],
   "source": [
    "screen_sizes = df['screen'].tolist()\n",
    "average_screen_size = st.mean(screen_sizes)\n",
    "\n",
    "print(f\"Average size of computers in the entire population: {average_screen_size:.2f} inches\")"
   ]
  },
  {
   "cell_type": "markdown",
   "id": "78dd9553-b6a5-4bcf-94f1-345e06707a83",
   "metadata": {},
   "source": [
    "# b) Variation of average prices of samples using different sample techniques"
   ]
  },
  {
   "cell_type": "markdown",
   "id": "50ca41cf-936e-4aa0-8890-12ddd6bef501",
   "metadata": {},
   "source": [
    "# Simple Random Sampling"
   ]
  },
  {
   "cell_type": "code",
   "execution_count": 32,
   "id": "533e6a01-4e9c-47fd-a68b-612023d7c265",
   "metadata": {},
   "outputs": [
    {
     "data": {
      "text/plain": [
       "2230.57"
      ]
     },
     "execution_count": 32,
     "metadata": {},
     "output_type": "execute_result"
    }
   ],
   "source": [
    "srs_sample = df.sample(n=400, random_state=42)  # Randomly sample 5\n",
    "srs_mean = st.mean(srs_sample['price'])\n",
    "srs_mean"
   ]
  },
  {
   "cell_type": "markdown",
   "id": "713be8db-f7e9-4e96-9e24-4f12de2249ca",
   "metadata": {},
   "source": [
    "# Systematic Sampling"
   ]
  },
  {
   "cell_type": "code",
   "execution_count": 34,
   "id": "ba6e3f65-65c1-427a-b7e3-b395edb59dbc",
   "metadata": {},
   "outputs": [
    {
     "data": {
      "text/plain": [
       "2129.5"
      ]
     },
     "execution_count": 34,
     "metadata": {},
     "output_type": "execute_result"
    }
   ],
   "source": [
    "k = 400  # Interval \n",
    "systematic_sample = df.iloc[::k] \n",
    "systematic_mean = st.mean(systematic_sample['price'])\n",
    "systematic_mean"
   ]
  },
  {
   "cell_type": "markdown",
   "id": "a7d0d9e3-d5a4-45bc-b4c1-7a1258451587",
   "metadata": {},
   "source": [
    "# Stratified Sampling"
   ]
  },
  {
   "cell_type": "code",
   "execution_count": 36,
   "id": "a3502255-b4a8-4f40-8c0f-cbc97a01cdb9",
   "metadata": {},
   "outputs": [],
   "source": [
    "grouped_price_df= df.groupby([\"price\"])\n",
    "prices=df.price.unique()\n",
    "strata_sample_df= []"
   ]
  },
  {
   "cell_type": "code",
   "execution_count": 37,
   "id": "d426d3b9-06b9-479b-ba83-f65036c73128",
   "metadata": {},
   "outputs": [],
   "source": [
    "import warnings\n",
    "warnings.filterwarnings(\"ignore\")\n",
    "for p in prices:\n",
    "    p_data=grouped_price_df.get_group(p)\n",
    "    #print(p_data)\n",
    "    sample_data=p_data.sample(n=400,replace=True,random_state=1)\n",
    "    #print(sample_data)\n",
    "    strata_sample_df.append(sample_data)"
   ]
  },
  {
   "cell_type": "code",
   "execution_count": 38,
   "id": "92ee8462-b6a3-499e-837a-566a05b2824e",
   "metadata": {},
   "outputs": [
    {
     "data": {
      "text/html": [
       "<div>\n",
       "<style scoped>\n",
       "    .dataframe tbody tr th:only-of-type {\n",
       "        vertical-align: middle;\n",
       "    }\n",
       "\n",
       "    .dataframe tbody tr th {\n",
       "        vertical-align: top;\n",
       "    }\n",
       "\n",
       "    .dataframe thead th {\n",
       "        text-align: right;\n",
       "    }\n",
       "</style>\n",
       "<table border=\"1\" class=\"dataframe\">\n",
       "  <thead>\n",
       "    <tr style=\"text-align: right;\">\n",
       "      <th></th>\n",
       "      <th>index</th>\n",
       "      <th>price</th>\n",
       "      <th>speed</th>\n",
       "      <th>hd</th>\n",
       "      <th>ram</th>\n",
       "      <th>screen</th>\n",
       "      <th>cd</th>\n",
       "      <th>multi</th>\n",
       "      <th>premium</th>\n",
       "      <th>ads_2022</th>\n",
       "      <th>ads_2023</th>\n",
       "      <th>trend</th>\n",
       "    </tr>\n",
       "  </thead>\n",
       "  <tbody>\n",
       "    <tr>\n",
       "      <th>0</th>\n",
       "      <td>4501</td>\n",
       "      <td>1499</td>\n",
       "      <td>33</td>\n",
       "      <td>340</td>\n",
       "      <td>4</td>\n",
       "      <td>15</td>\n",
       "      <td>yes</td>\n",
       "      <td>yes</td>\n",
       "      <td>yes</td>\n",
       "      <td>205</td>\n",
       "      <td>205</td>\n",
       "      <td>21</td>\n",
       "    </tr>\n",
       "    <tr>\n",
       "      <th>1</th>\n",
       "      <td>1138</td>\n",
       "      <td>1499</td>\n",
       "      <td>33</td>\n",
       "      <td>130</td>\n",
       "      <td>4</td>\n",
       "      <td>14</td>\n",
       "      <td>no</td>\n",
       "      <td>no</td>\n",
       "      <td>yes</td>\n",
       "      <td>298</td>\n",
       "      <td>298</td>\n",
       "      <td>8</td>\n",
       "    </tr>\n",
       "    <tr>\n",
       "      <th>2</th>\n",
       "      <td>638</td>\n",
       "      <td>1499</td>\n",
       "      <td>25</td>\n",
       "      <td>170</td>\n",
       "      <td>4</td>\n",
       "      <td>14</td>\n",
       "      <td>no</td>\n",
       "      <td>no</td>\n",
       "      <td>yes</td>\n",
       "      <td>176</td>\n",
       "      <td>176</td>\n",
       "      <td>6</td>\n",
       "    </tr>\n",
       "    <tr>\n",
       "      <th>3</th>\n",
       "      <td>306</td>\n",
       "      <td>1499</td>\n",
       "      <td>25</td>\n",
       "      <td>170</td>\n",
       "      <td>4</td>\n",
       "      <td>14</td>\n",
       "      <td>no</td>\n",
       "      <td>no</td>\n",
       "      <td>yes</td>\n",
       "      <td>108</td>\n",
       "      <td>108</td>\n",
       "      <td>4</td>\n",
       "    </tr>\n",
       "    <tr>\n",
       "      <th>4</th>\n",
       "      <td>5924</td>\n",
       "      <td>1499</td>\n",
       "      <td>50</td>\n",
       "      <td>545</td>\n",
       "      <td>4</td>\n",
       "      <td>15</td>\n",
       "      <td>yes</td>\n",
       "      <td>no</td>\n",
       "      <td>yes</td>\n",
       "      <td>129</td>\n",
       "      <td>129</td>\n",
       "      <td>29</td>\n",
       "    </tr>\n",
       "    <tr>\n",
       "      <th>...</th>\n",
       "      <td>...</td>\n",
       "      <td>...</td>\n",
       "      <td>...</td>\n",
       "      <td>...</td>\n",
       "      <td>...</td>\n",
       "      <td>...</td>\n",
       "      <td>...</td>\n",
       "      <td>...</td>\n",
       "      <td>...</td>\n",
       "      <td>...</td>\n",
       "      <td>...</td>\n",
       "      <td>...</td>\n",
       "    </tr>\n",
       "    <tr>\n",
       "      <th>323195</th>\n",
       "      <td>6132</td>\n",
       "      <td>1870</td>\n",
       "      <td>100</td>\n",
       "      <td>540</td>\n",
       "      <td>8</td>\n",
       "      <td>15</td>\n",
       "      <td>no</td>\n",
       "      <td>no</td>\n",
       "      <td>yes</td>\n",
       "      <td>51</td>\n",
       "      <td>51</td>\n",
       "      <td>32</td>\n",
       "    </tr>\n",
       "    <tr>\n",
       "      <th>323196</th>\n",
       "      <td>6132</td>\n",
       "      <td>1870</td>\n",
       "      <td>100</td>\n",
       "      <td>540</td>\n",
       "      <td>8</td>\n",
       "      <td>15</td>\n",
       "      <td>no</td>\n",
       "      <td>no</td>\n",
       "      <td>yes</td>\n",
       "      <td>51</td>\n",
       "      <td>51</td>\n",
       "      <td>32</td>\n",
       "    </tr>\n",
       "    <tr>\n",
       "      <th>323197</th>\n",
       "      <td>6132</td>\n",
       "      <td>1870</td>\n",
       "      <td>100</td>\n",
       "      <td>540</td>\n",
       "      <td>8</td>\n",
       "      <td>15</td>\n",
       "      <td>no</td>\n",
       "      <td>no</td>\n",
       "      <td>yes</td>\n",
       "      <td>51</td>\n",
       "      <td>51</td>\n",
       "      <td>32</td>\n",
       "    </tr>\n",
       "    <tr>\n",
       "      <th>323198</th>\n",
       "      <td>6132</td>\n",
       "      <td>1870</td>\n",
       "      <td>100</td>\n",
       "      <td>540</td>\n",
       "      <td>8</td>\n",
       "      <td>15</td>\n",
       "      <td>no</td>\n",
       "      <td>no</td>\n",
       "      <td>yes</td>\n",
       "      <td>51</td>\n",
       "      <td>51</td>\n",
       "      <td>32</td>\n",
       "    </tr>\n",
       "    <tr>\n",
       "      <th>323199</th>\n",
       "      <td>6132</td>\n",
       "      <td>1870</td>\n",
       "      <td>100</td>\n",
       "      <td>540</td>\n",
       "      <td>8</td>\n",
       "      <td>15</td>\n",
       "      <td>no</td>\n",
       "      <td>no</td>\n",
       "      <td>yes</td>\n",
       "      <td>51</td>\n",
       "      <td>51</td>\n",
       "      <td>32</td>\n",
       "    </tr>\n",
       "  </tbody>\n",
       "</table>\n",
       "<p>323200 rows × 12 columns</p>\n",
       "</div>"
      ],
      "text/plain": [
       "        index  price  speed   hd  ram  screen   cd multi premium  ads_2022  \\\n",
       "0        4501   1499     33  340    4      15  yes   yes     yes       205   \n",
       "1        1138   1499     33  130    4      14   no    no     yes       298   \n",
       "2         638   1499     25  170    4      14   no    no     yes       176   \n",
       "3         306   1499     25  170    4      14   no    no     yes       108   \n",
       "4        5924   1499     50  545    4      15  yes    no     yes       129   \n",
       "...       ...    ...    ...  ...  ...     ...  ...   ...     ...       ...   \n",
       "323195   6132   1870    100  540    8      15   no    no     yes        51   \n",
       "323196   6132   1870    100  540    8      15   no    no     yes        51   \n",
       "323197   6132   1870    100  540    8      15   no    no     yes        51   \n",
       "323198   6132   1870    100  540    8      15   no    no     yes        51   \n",
       "323199   6132   1870    100  540    8      15   no    no     yes        51   \n",
       "\n",
       "        ads_2023  trend  \n",
       "0            205     21  \n",
       "1            298      8  \n",
       "2            176      6  \n",
       "3            108      4  \n",
       "4            129     29  \n",
       "...          ...    ...  \n",
       "323195        51     32  \n",
       "323196        51     32  \n",
       "323197        51     32  \n",
       "323198        51     32  \n",
       "323199        51     32  \n",
       "\n",
       "[323200 rows x 12 columns]"
      ]
     },
     "execution_count": 38,
     "metadata": {},
     "output_type": "execute_result"
    }
   ],
   "source": [
    "strata_sample_df=pd.concat(strata_sample_df,ignore_index=True)\n",
    "strata_sample_df"
   ]
  },
  {
   "cell_type": "code",
   "execution_count": 39,
   "id": "621fea3f-0088-4b43-ab31-3d8ff7cc1d5f",
   "metadata": {},
   "outputs": [
    {
     "data": {
      "text/plain": [
       "2407.7995049504952"
      ]
     },
     "execution_count": 39,
     "metadata": {},
     "output_type": "execute_result"
    }
   ],
   "source": [
    "stratified_mean=st.mean(strata_sample_df[\"price\"])\n",
    "stratified_mean"
   ]
  },
  {
   "cell_type": "markdown",
   "id": "1d97298f-3b01-4095-9004-8b7894e95c71",
   "metadata": {},
   "source": [
    "# Stratified Sampling (assuming two strata: below and above 1000)"
   ]
  },
  {
   "cell_type": "code",
   "execution_count": 41,
   "id": "7f85f143-bc30-4d4b-b106-4208efebff6f",
   "metadata": {},
   "outputs": [
    {
     "data": {
      "text/plain": [
       "1598.615"
      ]
     },
     "execution_count": 41,
     "metadata": {},
     "output_type": "execute_result"
    }
   ],
   "source": [
    "strata_1 = df[df['price'] <= 1000]\n",
    "strata_2 = df[df['price'] > 1000]\n",
    "strata_1_sample = strata_1.sample(n=400,replace=True, random_state=42)\n",
    "strata_2_sample = strata_2.sample(n=400,replace=True, random_state=42)\n",
    "stratified_sample = pd.concat([strata_1_sample, strata_2_sample])\n",
    "stratified_mean1 = st.mean(stratified_sample['price'])\n",
    "stratified_mean1"
   ]
  },
  {
   "cell_type": "markdown",
   "id": "5a1ba4bc-1924-4d33-b46f-e28b9fb5066b",
   "metadata": {},
   "source": [
    "# Cluster Sampling"
   ]
  },
  {
   "cell_type": "code",
   "execution_count": 43,
   "id": "e941c9e3-2e0c-4752-b212-5b9d8733a9af",
   "metadata": {},
   "outputs": [
    {
     "data": {
      "text/plain": [
       "2050.951677089255"
      ]
     },
     "execution_count": 43,
     "metadata": {},
     "output_type": "execute_result"
    }
   ],
   "source": [
    "import random\n",
    "\n",
    "# Cluster Sampling (assuming 2 clusters)\n",
    "\n",
    "cluster_1 = df.iloc[:4500]\n",
    "cluster_2 = df.iloc[4500:]\n",
    "cluster_sample = random.choice([cluster_1, cluster_2])\n",
    "cluster_mean = st.mean(cluster_sample['price'])\n",
    "cluster_mean"
   ]
  },
  {
   "cell_type": "code",
   "execution_count": 44,
   "id": "0cf4c510-286b-47b8-a9f4-f5bba7f6feed",
   "metadata": {},
   "outputs": [
    {
     "name": "stdout",
     "output_type": "stream",
     "text": [
      "SRS Mean: 2230.57\n",
      "Systematic Sampling Mean: 2129.50\n",
      "Stratified Sampling Mean: 2407.80\n",
      "Cluster Sampling Mean: 2050.95\n"
     ]
    }
   ],
   "source": [
    "print(f\"SRS Mean: {srs_mean:.2f}\")\n",
    "print(f\"Systematic Sampling Mean: {systematic_mean:.2f}\")\n",
    "print(f\"Stratified Sampling Mean: {stratified_mean:.2f}\")\n",
    "print(f\"Cluster Sampling Mean: {cluster_mean:.2f}\")"
   ]
  },
  {
   "cell_type": "code",
   "execution_count": 45,
   "id": "92d404af-3bd4-4868-8875-733811bfbac4",
   "metadata": {},
   "outputs": [
    {
     "name": "stdout",
     "output_type": "stream",
     "text": [
      "\n",
      "The variation in means suggests that:\n",
      "\n",
      "SRS provides a reliable baseline but is subject to random variability.\n",
      "Systematic Sampling may underrepresent or overrepresent certain segments if patterns exist in the data.\n",
      "Stratified Sampling generally offers the most precision when strata are well-chosen but may overestimate or underestimate the mean if the strata weights are not proportional.\n",
      "Cluster Sampling depends heavily on the representativeness of the selected clusters and might not capture population-wide diversity.\n",
      "\n",
      "To choose the best sampling method:\n",
      "We should use stratified sampling for populations with known subgroups.\n",
      "Prefer SRS for simplicity and unbiased results if subgroup information is unavailable.\n",
      "Avoid systematic and cluster sampling unless their limitations are addressed.\n"
     ]
    }
   ],
   "source": [
    "Conclusion=\"\"\"\n",
    "The variation in means suggests that:\n",
    "\n",
    "SRS provides a reliable baseline but is subject to random variability.\n",
    "Systematic Sampling may underrepresent or overrepresent certain segments if patterns exist in the data.\n",
    "Stratified Sampling generally offers the most precision when strata are well-chosen but may overestimate or underestimate the mean if the strata weights are not proportional.\n",
    "Cluster Sampling depends heavily on the representativeness of the selected clusters and might not capture population-wide diversity.\n",
    "\n",
    "To choose the best sampling method:\n",
    "We should use stratified sampling for populations with known subgroups.\n",
    "Prefer SRS for simplicity and unbiased results if subgroup information is unavailable.\n",
    "Avoid systematic and cluster sampling unless their limitations are addressed.\"\"\"\n",
    "\n",
    "print(Conclusion)"
   ]
  },
  {
   "cell_type": "markdown",
   "id": "ec9ce85a-ddbc-49bd-8dae-d8aac44d234c",
   "metadata": {},
   "source": [
    "# c) Comparison of average prices of premium and non-premium computers' sampled data without replacement"
   ]
  },
  {
   "cell_type": "code",
   "execution_count": 47,
   "id": "5847a077-7b86-42b1-a395-1092e74e89e6",
   "metadata": {},
   "outputs": [
    {
     "name": "stdout",
     "output_type": "stream",
     "text": [
      "Population Average Price (Premium): 2204.15\n",
      "Population Average Price (Non-Premium): 2361.93\n",
      "Sample Average Price (Premium, SRSWOR): 2272.21\n",
      "Sample Average Price (Non-Premium, SRSWOR): 2321.56\n",
      "Difference in Premium Average (Sample - Population): 68.06\n",
      "Difference in Non-Premium Average (Sample - Population): -40.38\n"
     ]
    }
   ],
   "source": [
    "import pandas as pd\n",
    "\n",
    "# 1. Calculating average prices for the whole dataset\n",
    "premium_avg = st.mean(df[df['premium'] == 'yes']['price'])\n",
    "non_premium_avg = st.mean(df[df['premium'] == 'no']['price'])\n",
    "\n",
    "print(f\"Population Average Price (Premium): {premium_avg:.2f}\")\n",
    "print(f\"Population Average Price (Non-Premium): {non_premium_avg:.2f}\")\n",
    "\n",
    "# 2. Simple Random Sampling Without Replacement\n",
    "premium_sample = df[df['premium'] == 'yes'].sample(n=400, random_state=1, replace=False)\n",
    "non_premium_sample = df[df['premium'] == 'no'].sample(n=400, random_state=1, replace=False)\n",
    "\n",
    "premium_sample_avg = st.mean(premium_sample['price'])\n",
    "non_premium_sample_avg =st.mean(non_premium_sample['price'])\n",
    "\n",
    "print(f\"Sample Average Price (Premium, SRSWOR): {premium_sample_avg:.2f}\")\n",
    "print(f\"Sample Average Price (Non-Premium, SRSWOR): {non_premium_sample_avg:.2f}\")\n",
    "\n",
    "# 3. Comparing the differences\n",
    "premium_diff = premium_sample_avg - premium_avg\n",
    "non_premium_diff = non_premium_sample_avg - non_premium_avg\n",
    "\n",
    "print(f\"Difference in Premium Average (Sample - Population): {premium_diff:.2f}\")\n",
    "print(f\"Difference in Non-Premium Average (Sample - Population): {non_premium_diff:.2f}\")\n"
   ]
  },
  {
   "cell_type": "markdown",
   "id": "29ebc836-2745-4852-b5dd-3bd5cf6f87b4",
   "metadata": {},
   "source": [
    "# d) Interpretation"
   ]
  },
  {
   "cell_type": "raw",
   "id": "57aece12-b95c-425e-88e0-9f9e1b819c29",
   "metadata": {},
   "source": [
    "1. Independent Comparisons\n",
    "\n",
    "Premium Computers\n",
    "Population Average Price: 2204.15\n",
    "Sample Average Price: 2272.21\n",
    "Difference (Sample - Population): +68.06\n",
    "The sampled average for premium computers is slightly higher than the population average. \n",
    "This indicates:The sample is reasonably representative of the premium computer prices, as the difference is small (+68.06).\n",
    "Sampling variability has caused a minor overestimation, possibly due to a slight overrepresentation of higher-priced premium computers in the sample.\n",
    "\n",
    "Non-Premium Computers\n",
    "Population Average Price: 2361.93\n",
    "Sample Average Price: 2321.56\n",
    "Difference (Sample - Population): − 40.38\n",
    "The sampled average for non-premium computers is slightly lower than the population average. \n",
    "This suggests:The sample is also fairly representative for non-premium computers, with a minor underestimation (−40.38).\n",
    "The difference is small enough to fall within a reasonable range of sampling error, indicating good coverage of the non-premium category."
   ]
  },
  {
   "cell_type": "raw",
   "id": "efe3358b-2cb7-4e28-a369-715557c2e1e6",
   "metadata": {},
   "source": [
    "2. Combined Comparison\n",
    "\n",
    "Population Perspective\n",
    "Premium Average Price: 2204.15\n",
    "Non-Premium Average Price: 2361.93\n",
    "Difference (Non-Premium - Premium): +157.78\n",
    "In the population, non-premium computers are more expensive than premium computers by +157.78\n",
    "\n",
    "This could be because:\n",
    "Non-premium computers cater to a broader market, potentially including high-end models that drive the average price up.\n",
    "Premium computers might focus on specific features (e.g., performance, design) while targeting a narrower price range.\n",
    "\n",
    "Sample Perspective\n",
    "Premium Average Price: 2272.21\n",
    "Non-Premium Average Price: 2321.56\n",
    "Difference (Non-Premium - Premium): +49.35\n",
    "In the sample, non-premium computers remain more expensive than premium computers, but the difference is reduced to +49.35.\n",
    "\n",
    "This implies:The sampled data captures the general trend of non-premium computers being more expensive, but the difference is less pronounced due to sampling variability.\n",
    "Minor underrepresentation of higher-priced non-premium computers or overrepresentation of higher-priced premium computers in the sample might have narrowed the gap."
   ]
  },
  {
   "cell_type": "raw",
   "id": "9cfb98d1-1c3c-438a-b34a-7c636008459b",
   "metadata": {},
   "source": [
    "Key Observations\n",
    "\n",
    "Premium Computers:\n",
    "The sample mean slightly overestimates the population mean, but the difference (+68.06) is small and acceptable, suggesting a representative sample.\n",
    "    \n",
    "Non-Premium Computers:\n",
    "The sample mean slightly underestimates the population mean (−40.38),but again, the difference is minor, indicating good sampling accuracy.\n",
    "\n",
    "Comparison Between Categories:\n",
    "Both in the population and the sample, non-premium computers are more expensive on average than premium computers.\n",
    "The smaller gap in the sample (+49.35 vs.+157.78) highlights potential sampling error or differences in variability between the two categories."
   ]
  },
  {
   "cell_type": "markdown",
   "id": "c2183551-b997-4b02-8459-002e59952864",
   "metadata": {},
   "source": [
    "# BUSINESS OBJECTIVE 3: UNDERSTANDING COMPUTER PRICE TRENDS THROUGH DISTRIBUTION ANALYSIS"
   ]
  },
  {
   "cell_type": "markdown",
   "id": "fc9f7360-e770-436e-85cb-70789293ea86",
   "metadata": {},
   "source": [
    "# TASK-3"
   ]
  },
  {
   "cell_type": "markdown",
   "id": "c362d782-da7e-417b-baab-ae309ab1a227",
   "metadata": {},
   "source": [
    "# a) VARIATION OF SAMPLE MEANS OF DIFFERENT SAMPLE SIZES OF PRICES AND THEIR DISTRIBUTION"
   ]
  },
  {
   "cell_type": "code",
   "execution_count": 64,
   "id": "cbbfc00b-5dfc-4375-96aa-8484ea138f06",
   "metadata": {},
   "outputs": [
    {
     "name": "stdout",
     "output_type": "stream",
     "text": [
      "Population mean is: 2219.576609682058\n",
      "Population median is: 2144\n",
      "Population Standard deviation  is: 580.8039556527063\n",
      "Population skewness is: 0.7117247480608602\n",
      "Population kurtosis is: 0.7304170367653207\n"
     ]
    }
   ],
   "source": [
    "#Population parameters\n",
    "import statistics as st\n",
    "import scipy.stats as sts\n",
    "\n",
    "data_p=df[\"price\"].tolist()\n",
    "\n",
    "p_mean=st.mean(data_p)\n",
    "p_median=st.median(data_p)\n",
    "p_sd=st.stdev(data_p)\n",
    "\n",
    "print(\"Population mean is:\", p_mean)\n",
    "print(\"Population median is:\", p_median)\n",
    "print(\"Population Standard deviation  is:\", p_sd)\n",
    "print(\"Population skewness is:\",sts.skew(data_p,bias=False))\n",
    "print(\"Population kurtosis is:\",sts.kurtosis(data_p,bias=False))"
   ]
  },
  {
   "cell_type": "code",
   "execution_count": 52,
   "id": "3e489811-f184-4596-8851-e8fe2010931b",
   "metadata": {},
   "outputs": [
    {
     "data": {
      "text/plain": [
       "Text(0, 0.5, 'Frequency')"
      ]
     },
     "execution_count": 52,
     "metadata": {},
     "output_type": "execute_result"
    },
    {
     "data": {
      "image/png": "[encoded data removed]",
      "text/plain": [
       "<Figure size 640x480 with 1 Axes>"
      ]
     },
     "metadata": {},
     "output_type": "display_data"
    }
   ],
   "source": [
    "import matplotlib.pyplot as plt\n",
    "import seaborn as sb\n",
    "\n",
    "population_price_df=df[(\"price\")]\n",
    "sb.histplot(population_price_df, bins=5)\n",
    "plt.xlabel(\"Population_Price\")\n",
    "plt.ylabel(\"Frequency\")"
   ]
  },
  {
   "cell_type": "code",
   "execution_count": 78,
   "id": "a0882c67-447b-4d4c-9a69-18d5de7b89b6",
   "metadata": {},
   "outputs": [
    {
     "name": "stdout",
     "output_type": "stream",
     "text": [
      "===============sample size = 100========================\n",
      "5157    1758\n",
      "235     2295\n",
      "3980    2095\n",
      "5192    1528\n",
      "905     1899\n",
      "        ... \n",
      "1869    1744\n",
      "1795    1644\n",
      "2944    2645\n",
      "5373    2339\n",
      "461     1790\n",
      "Name: price, Length: 100, dtype: int64\n",
      "===============sample size = 200========================\n",
      "5157    1758\n",
      "235     2295\n",
      "3980    2095\n",
      "5192    1528\n",
      "905     1899\n",
      "        ... \n",
      "3374    1395\n",
      "4509    2593\n",
      "4159    3190\n",
      "843     2644\n",
      "5667    2328\n",
      "Name: price, Length: 200, dtype: int64\n",
      "===============sample size = 300========================\n",
      "5157    1758\n",
      "235     2295\n",
      "3980    2095\n",
      "5192    1528\n",
      "905     1899\n",
      "        ... \n",
      "1880    1890\n",
      "4014    2145\n",
      "4662    3290\n",
      "2574    1299\n",
      "4813    1790\n",
      "Name: price, Length: 300, dtype: int64\n",
      "===============sample size = 400========================\n",
      "5157    1758\n",
      "235     2295\n",
      "3980    2095\n",
      "5192    1528\n",
      "905     1899\n",
      "        ... \n",
      "2559    1395\n",
      "2562    1744\n",
      "1820    2995\n",
      "3790    3095\n",
      "715     1495\n",
      "Name: price, Length: 400, dtype: int64\n",
      "===============sample size = 500========================\n",
      "5157    1758\n",
      "235     2295\n",
      "3980    2095\n",
      "5192    1528\n",
      "905     1899\n",
      "        ... \n",
      "1887    1799\n",
      "5728    1454\n",
      "956     1944\n",
      "3820    2465\n",
      "2335    3699\n",
      "Name: price, Length: 500, dtype: int64\n",
      "===============sample size = 1000========================\n",
      "5157    1758\n",
      "235     2295\n",
      "3980    2095\n",
      "5192    1528\n",
      "905     1899\n",
      "        ... \n",
      "5295    2323\n",
      "2522    1944\n",
      "3412    2694\n",
      "3855    1679\n",
      "449     2625\n",
      "Name: price, Length: 1000, dtype: int64\n",
      "===============sample size = 2000========================\n",
      "5157    1758\n",
      "235     2295\n",
      "3980    2095\n",
      "5192    1528\n",
      "905     1899\n",
      "        ... \n",
      "3328    2390\n",
      "4303    2099\n",
      "2835    1999\n",
      "5380    1795\n",
      "2433    1795\n",
      "Name: price, Length: 2000, dtype: int64\n",
      "===============sample size = 3000========================\n",
      "5157    1758\n",
      "235     2295\n",
      "3980    2095\n",
      "5192    1528\n",
      "905     1899\n",
      "        ... \n",
      "4605    2890\n",
      "3445    1495\n",
      "4561    3043\n",
      "5412    2285\n",
      "816     2744\n",
      "Name: price, Length: 3000, dtype: int64\n",
      "===============sample size = 4000========================\n",
      "5157    1758\n",
      "235     2295\n",
      "3980    2095\n",
      "5192    1528\n",
      "905     1899\n",
      "        ... \n",
      "5639    1199\n",
      "1087    2648\n",
      "1349    2144\n",
      "773     2690\n",
      "5861    2208\n",
      "Name: price, Length: 4000, dtype: int64\n",
      "===============sample size = 5000========================\n",
      "5157    1758\n",
      "235     2295\n",
      "3980    2095\n",
      "5192    1528\n",
      "905     1899\n",
      "        ... \n",
      "4999    2118\n",
      "2810    2120\n",
      "5254    2590\n",
      "2308    2799\n",
      "4542    1828\n",
      "Name: price, Length: 5000, dtype: int64\n",
      "===============sample size = 6000========================\n",
      "5157    1758\n",
      "235     2295\n",
      "3980    2095\n",
      "5192    1528\n",
      "905     1899\n",
      "        ... \n",
      "257     2449\n",
      "1625    2095\n",
      "425     1595\n",
      "451     2395\n",
      "1730    2674\n",
      "Name: price, Length: 6000, dtype: int64\n",
      "===============sample size = 7000========================\n",
      "5157    1758\n",
      "235     2295\n",
      "3980    2095\n",
      "5192    1528\n",
      "905     1899\n",
      "        ... \n",
      "6114    2494\n",
      "3758    2093\n",
      "6203    2195\n",
      "5391    2699\n",
      "3282    1495\n",
      "Name: price, Length: 7000, dtype: int64\n"
     ]
    }
   ],
   "source": [
    "price_df=df[\"price\"]\n",
    "sd_100=price_df.sample(n=100,replace=True, random_state=1)\n",
    "sd_200=price_df.sample(n=200,replace=True, random_state=1)\n",
    "sd_300=price_df.sample(n=300,replace=True, random_state=1)\n",
    "sd_400=price_df.sample(n=400,replace=True, random_state=1)\n",
    "sd_500=price_df.sample(n=500,replace=True, random_state=1)\n",
    "sd_600=price_df.sample(n=600,replace=True, random_state=1)\n",
    "sd_1000=price_df.sample(n=1000,replace=True, random_state=1)\n",
    "sd_2000=price_df.sample(n=2000,replace=True, random_state=1)\n",
    "sd_3000=price_df.sample(n=3000,replace=True, random_state=1)\n",
    "sd_4000=price_df.sample(n=4000,replace=True, random_state=1)\n",
    "sd_5000=price_df.sample(n=5000,replace=True, random_state=1)\n",
    "sd_6000=price_df.sample(n=6000,replace=True, random_state=1)\n",
    "sd_7000=price_df.sample(n=7000,replace=True, random_state=1)\n",
    "print(\"===============sample size = 100========================\")\n",
    "print(sd_100)\n",
    "print(\"===============sample size = 200========================\")\n",
    "print(sd_200)\n",
    "print(\"===============sample size = 300========================\")\n",
    "print(sd_300)\n",
    "print(\"===============sample size = 400========================\")\n",
    "print(sd_400)\n",
    "print(\"===============sample size = 500========================\")\n",
    "print(sd_500)\n",
    "print(\"===============sample size = 1000========================\")\n",
    "print(sd_1000)\n",
    "print(\"===============sample size = 2000========================\")\n",
    "print(sd_2000)\n",
    "print(\"===============sample size = 3000========================\")\n",
    "print(sd_3000)\n",
    "print(\"===============sample size = 4000========================\")\n",
    "print(sd_4000)\n",
    "print(\"===============sample size = 5000========================\")\n",
    "print(sd_5000)\n",
    "print(\"===============sample size = 6000========================\")\n",
    "print(sd_6000)\n",
    "print(\"===============sample size = 7000========================\")\n",
    "print(sd_7000)"
   ]
  },
  {
   "cell_type": "code",
   "execution_count": 80,
   "id": "cf570995-4e29-4d47-9abc-4aa036c0086d",
   "metadata": {},
   "outputs": [
    {
     "name": "stdout",
     "output_type": "stream",
     "text": [
      "===============sample size = 100========================\n",
      "sample_mean_100: 2181.61\n",
      "===============sample size = 200========================\n",
      "sample_mean_200: 2202.775\n",
      "===============sample size = 300========================\n",
      "sample_mean_300: 2184.8766666666666\n",
      "===============sample size = 400========================\n",
      "sample_mean_400: 2194.345\n",
      "===============sample size = 500========================\n",
      "sample_mean_500: 2212.25\n",
      "===============sample size = 1000========================\n",
      "sample_mean_1000: 2227.662\n",
      "===============sample size = 2000========================\n",
      "sample_mean_2000: 2213.7805\n",
      "===============sample size = 3000========================\n",
      "sample_mean_3000: 2217.038666666667\n",
      "===============sample size = 4000========================\n",
      "sample_mean_4000: 2221.1745\n",
      "===============sample size = 5000========================\n",
      "sample_mean_5000: 2221.2752\n",
      "===============sample size = 6000========================\n",
      "sample_mean_6000: 2219.3625\n",
      "===============sample size = 7000========================\n",
      "sample_mean_7000: 2218.9024285714286\n"
     ]
    }
   ],
   "source": [
    "sd_100_mean=st.mean(sd_100)\n",
    "sd_200_mean=st.mean(sd_200)\n",
    "sd_300_mean=st.mean(sd_300)\n",
    "sd_400_mean=st.mean(sd_400)\n",
    "sd_500_mean=st.mean(sd_500)\n",
    "sd_1000_mean=st.mean(sd_1000)\n",
    "sd_2000_mean=st.mean(sd_2000)\n",
    "sd_3000_mean=st.mean(sd_3000)\n",
    "sd_4000_mean=st.mean(sd_4000)\n",
    "sd_5000_mean=st.mean(sd_5000)\n",
    "sd_6000_mean=st.mean(sd_6000)\n",
    "sd_7000_mean=st.mean(sd_7000)\n",
    "\n",
    "print(\"===============sample size = 100========================\")\n",
    "print(\"sample_mean_100:\",sd_100_mean)\n",
    "print(\"===============sample size = 200========================\")\n",
    "print(\"sample_mean_200:\",sd_200_mean)\n",
    "print(\"===============sample size = 300========================\")\n",
    "print(\"sample_mean_300:\",sd_300_mean)\n",
    "print(\"===============sample size = 400========================\")\n",
    "print(\"sample_mean_400:\",sd_400_mean)\n",
    "print(\"===============sample size = 500========================\")\n",
    "print(\"sample_mean_500:\",sd_500_mean)\n",
    "print(\"===============sample size = 1000========================\")\n",
    "print(\"sample_mean_1000:\",sd_1000_mean)\n",
    "print(\"===============sample size = 2000========================\")\n",
    "print(\"sample_mean_2000:\",sd_2000_mean)\n",
    "print(\"===============sample size = 3000========================\")\n",
    "print(\"sample_mean_3000:\",sd_3000_mean)\n",
    "print(\"===============sample size = 4000========================\")\n",
    "print(\"sample_mean_4000:\",sd_4000_mean)\n",
    "print(\"===============sample size = 5000========================\")\n",
    "print(\"sample_mean_5000:\",sd_5000_mean)\n",
    "print(\"===============sample size = 6000========================\")\n",
    "print(\"sample_mean_6000:\",sd_6000_mean)\n",
    "print(\"===============sample size = 7000========================\")\n",
    "print(\"sample_mean_7000:\",sd_7000_mean)"
   ]
  },
  {
   "cell_type": "markdown",
   "id": "203447eb-6c97-45ce-8253-dc9638c3f093",
   "metadata": {},
   "source": [
    "# b) DISTRIBUTION OF SAMPLE MEANS' APPROXIMATING A NORMAL DISTRIBUTION"
   ]
  },
  {
   "cell_type": "code",
   "execution_count": 76,
   "id": "9b41ab23-9cea-4c5b-9ec3-11bf4dc80e27",
   "metadata": {},
   "outputs": [
    {
     "data": {
      "image/png": "[encoded data removed]",
      "text/plain": [
       "<Figure size 2000x1500 with 12 Axes>"
      ]
     },
     "metadata": {},
     "output_type": "display_data"
    }
   ],
   "source": [
    "num=[100,200,300,400,500,1000,2000,3000,4000,5000,6000,7000]\n",
    "data_s=[]\n",
    "sample_df=pd.DataFrame\n",
    "\n",
    "fig,ax=plt.subplots(3,4, figsize=(20,15))\n",
    "for i in num:\n",
    "    sample_df= df.sample(n=i,replace=True,random_state=1)\n",
    "    data_s.append(sample_df[\"price\"].tolist())\n",
    "\n",
    "k=0 #(count)\n",
    "for i in range(0,3):\n",
    "    for j in range(0,4):\n",
    "        ax[i,j].hist(data_s[k],5,density=True) # 5 is bin size\n",
    "        ax[i,j].set_title(label=\"Sample_size=\"+str(len(data_s[k])))\n",
    "        k=k+1\n",
    "plt.show()  "
   ]
  },
  {
   "cell_type": "markdown",
   "id": "0c54bc42-1df8-471c-bb23-7e0e43228a9b",
   "metadata": {},
   "source": [
    "# c) PROVING THE SATISFACTION OF CENTRAL LIMIT THEOREM FOR THE SAMPLES"
   ]
  },
  {
   "cell_type": "code",
   "execution_count": null,
   "id": "ca3ffcca-0b53-4174-abc3-9c661293cb4c",
   "metadata": {},
   "outputs": [],
   "source": [
    "Central Limit Theorem Properties\n",
    "\n",
    "Sampling Distribution of the Mean Approximates Normality:\n",
    "As the sample size increases, the distribution of the sample means should approach a normal distribution, regardless of the population's original distribution.\n",
    "\n",
    "Mean of Sample Means Approaches Population Mean:\n",
    "The average of the sample means should converge to the population mean as the sample size increases.\n"
   ]
  },
  {
   "cell_type": "code",
   "execution_count": 94,
   "id": "82416deb-89e6-4b05-99c5-0b5867325f13",
   "metadata": {},
   "outputs": [
    {
     "data": {
      "image/png": "[encoded data removed]",
      "text/plain": [
       "<Figure size 1000x600 with 1 Axes>"
      ]
     },
     "metadata": {},
     "output_type": "display_data"
    }
   ],
   "source": [
    "import numpy as np\n",
    "import matplotlib.pyplot as plt\n",
    "\n",
    "# Sample means\n",
    "sample_sizes = [100, 200, 300, 400, 500, 1000, 2000, 3000, 4000, 5000, 6000, 7000]\n",
    "sample_means = [2181.61, 2202.775, 2184.876, 2194.34, 2212.25, \n",
    "                2227.66, 2213.78, 2217.03, 2221.17, \n",
    "                2221.27, 2219.36, 2218.90]\n",
    "\n",
    "# Population mean\n",
    "population_mean = 2219.57\n",
    "\n",
    "# Plotting sample means against sample sizes\n",
    "plt.figure(figsize=(10, 6))\n",
    "plt.plot(sample_sizes, sample_means, marker='o', label=\"Sample Means\")\n",
    "plt.axhline(y=population_mean, color='r', linestyle='--', label=\"Population Mean\")\n",
    "plt.title(\"Sample Means vs. Sample Sizes\")\n",
    "plt.xlabel(\"Sample Size\")\n",
    "plt.ylabel(\"Sample Mean\")\n",
    "plt.legend()\n",
    "plt.grid()\n",
    "plt.show()"
   ]
  },
  {
   "cell_type": "raw",
   "id": "0ae66e83-8817-4605-8b2d-a845de61ab37",
   "metadata": {},
   "source": [
    "Conclusion\n",
    "\n",
    "Based on the data provided:\n",
    "The sample means converge to the population mean as the sample size increases, satisfying the convergence property of CLT.\n",
    "The decreasing variance in sample means indicates stabilization, consistent with the variance property of CLT.\n",
    "Assuming no anomalies, the sampling distribution should approximate a normal distribution for large 𝑛, satisfying the normality property of CLT.\n",
    "Thus, the Central Limit Theorem holds true for the given data."
   ]
  }
 ],
 "metadata": {
  "kernelspec": {
   "display_name": "Python 3 (ipykernel)",
   "language": "python",
   "name": "python3"
  },
  "language_info": {
   "codemirror_mode": {
    "name": "ipython",
    "version": 3
   },
   "file_extension": ".py",
   "mimetype": "text/x-python",
   "name": "python",
   "nbconvert_exporter": "python",
   "pygments_lexer": "ipython3",
   "version": "3.12.4"
  }
 },
 "nbformat": 4,
 "nbformat_minor": 5
}
